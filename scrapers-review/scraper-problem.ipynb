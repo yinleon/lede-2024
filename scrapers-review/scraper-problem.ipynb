{
 "cells": [
  {
   "cell_type": "markdown",
   "id": "55450b29-f841-46a5-96a9-648ea542c9cf",
   "metadata": {},
   "source": [
    "# Scraper problem\n",
    "\n",
    "We want to search the US patents office for all trademarks from Walmart.\n",
    "\n",
    "We only care about new trademarks they have in Pending.\n",
    "\n",
    "Take a 5 minutes to visit [the website](https://tmsearch.uspto.gov/search/search-information) and manually review the steps to make a search and get all the results."
   ]
  },
  {
   "cell_type": "markdown",
   "id": "54c03dd2-ddec-4334-a184-37dcbdd3f4df",
   "metadata": {},
   "source": [
    "## Psuedocode\n",
    "\n",
    "Step-by-step how would you do this?"
   ]
  },
  {
   "cell_type": "markdown",
   "id": "cc3e6d1d-0afe-4b57-9cd9-23d7c12047b3",
   "metadata": {},
   "source": [
    "## Formalize\n",
    "\n",
    "OK, so we have the steps down. How and what will we save?"
   ]
  },
  {
   "cell_type": "markdown",
   "id": "56df1266-1170-4d2b-8803-e32da471bea3",
   "metadata": {},
   "source": [
    "## Alternatives?\n",
    "\n",
    "Is there another method of scraping this site? Let's go over it."
   ]
  },
  {
   "cell_type": "markdown",
   "id": "27ab9678-4b9f-43c4-964c-3d1527661eee",
   "metadata": {},
   "source": [
    "## Future proof\n",
    "\n",
    "We want to monitor every new trademark Walmart applies for. How can we do that with this scraper?\n",
    "\n",
    "Is there a way to prevent re-collecting the same data?\n",
    "\n",
    "How can you monitor that the scraper is still working?"
   ]
  },
  {
   "cell_type": "code",
   "execution_count": null,
   "id": "4b7362c5-9e96-4b13-b02f-3e3ceb4370e0",
   "metadata": {},
   "outputs": [],
   "source": []
  }
 ],
 "metadata": {
  "kernelspec": {
   "display_name": "Python 3 (ipykernel)",
   "language": "python",
   "name": "python3"
  },
  "language_info": {
   "codemirror_mode": {
    "name": "ipython",
    "version": 3
   },
   "file_extension": ".py",
   "mimetype": "text/x-python",
   "name": "python",
   "nbconvert_exporter": "python",
   "pygments_lexer": "ipython3",
   "version": "3.11.4"
  }
 },
 "nbformat": 4,
 "nbformat_minor": 5
}
