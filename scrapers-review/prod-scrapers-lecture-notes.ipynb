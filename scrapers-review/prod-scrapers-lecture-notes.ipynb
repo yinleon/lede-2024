{
 "cells": [
  {
   "cell_type": "markdown",
   "id": "2e7f4ca6",
   "metadata": {
    "editable": true,
    "slideshow": {
     "slide_type": "slide"
    },
    "tags": []
   },
   "source": [
    "# Today's theme is Failiure\n"
   ]
  },
  {
   "cell_type": "markdown",
   "id": "8427b9ac",
   "metadata": {
    "editable": true,
    "slideshow": {
     "slide_type": "slide"
    },
    "tags": []
   },
   "source": [
    "# How To Debug Scapers: Browser Automation"
   ]
  },
  {
   "cell_type": "markdown",
   "id": "7ad64e43",
   "metadata": {
    "editable": true,
    "slideshow": {
     "slide_type": "slide"
    },
    "tags": []
   },
   "source": [
    "## 1. Spot check the results\n",
    "\n",
    "Manually inspect the data you just collected. Does it look like what you expect?\n",
    "\n",
    "Let's look at the first and last page of Zillow that we collected."
   ]
  },
  {
   "cell_type": "markdown",
   "id": "8dde54bb",
   "metadata": {
    "editable": true,
    "slideshow": {
     "slide_type": "slide"
    },
    "tags": []
   },
   "source": [
    "## 2. Can't find an element\n",
    "\n",
    "Maybe something hasn't loaded yet. If that is the case, you can wait for it to show up.\n",
    "\n",
    "See the example in the [Inspect Element tutorial](https://inspectelement.org/browser_automation.html#step-3-finding-elements-on-page-and-interacting-with-them)."
   ]
  },
  {
   "cell_type": "markdown",
   "id": "f4667e1d-58fb-4ba7-858c-f1afb05b7c55",
   "metadata": {
    "editable": true,
    "slideshow": {
     "slide_type": "subslide"
    },
    "tags": []
   },
   "source": [
    "```\n",
    "from playwright.async_api import async_playwright, expect\n",
    "\n",
    "# assume `page` was set up earlier\n",
    "\n",
    "xpath_1st_opt = '//li[@role=\"option\"]'\n",
    "await expect(page.locator(xpath_1st_opt).first).to_be_visible()\n",
    "\n",
    "close_button = page.locator(xpath_1st_opt)\n",
    "close_button\n",
    "```"
   ]
  },
  {
   "cell_type": "markdown",
   "id": "68ca4ebe",
   "metadata": {
    "editable": true,
    "slideshow": {
     "slide_type": "slide"
    },
    "tags": []
   },
   "source": [
    "## 3. Look to known issues\n",
    "\n",
    "For example, a capcha, or an empty result. \n",
    "- Wait to see if these signs show up.\n",
    "- Intervene as necessary."
   ]
  },
  {
   "cell_type": "markdown",
   "id": "fcd2bff6",
   "metadata": {
    "editable": true,
    "slideshow": {
     "slide_type": "slide"
    },
    "tags": []
   },
   "source": [
    "## Debugging APIs"
   ]
  },
  {
   "cell_type": "markdown",
   "id": "fb337874",
   "metadata": {
    "editable": true,
    "slideshow": {
     "slide_type": "slide"
    },
    "tags": []
   },
   "source": [
    "## 1. Listen to status codes\n",
    "The status code will tell you if your API calls are successful, and whether you crashed a server.\n",
    "\n",
    "Intervene as necessary. Also place periodic sleeps."
   ]
  },
  {
   "cell_type": "markdown",
   "id": "8aaff55c",
   "metadata": {
    "editable": true,
    "slideshow": {
     "slide_type": "slide"
    },
    "tags": []
   },
   "source": [
    "## 2. Spotcheck\n",
    "\n",
    "Open the JSON and make sure it looks like what you expect."
   ]
  },
  {
   "cell_type": "markdown",
   "id": "97890ca4",
   "metadata": {
    "editable": true,
    "slideshow": {
     "slide_type": "slide"
    },
    "tags": []
   },
   "source": [
    "## 3. Check for known keys\n",
    "\n",
    "Programmatically check if the `key` you're expecting is present."
   ]
  },
  {
   "cell_type": "markdown",
   "id": "4775d4e6",
   "metadata": {
    "editable": true,
    "slideshow": {
     "slide_type": "slide"
    },
    "tags": []
   },
   "source": [
    "# General notes"
   ]
  },
  {
   "cell_type": "markdown",
   "id": "14e9af65",
   "metadata": {
    "editable": true,
    "slideshow": {
     "slide_type": "slide"
    },
    "tags": []
   },
   "source": [
    "## Summarize the data\n",
    "Check the number of rows per day. This is similar to a dashboard"
   ]
  },
  {
   "cell_type": "markdown",
   "id": "366bf065",
   "metadata": {
    "editable": true,
    "slideshow": {
     "slide_type": "slide"
    },
    "tags": []
   },
   "source": [
    "## Catch and handle expections\n",
    "\n",
    "Monitor the scraper to known issues. Determine automated answers to those issues.\n",
    "\n",
    "Have you used `try` and `except` phrases in Python? Read more about that [here](https://pythonbasics.org/try-except/)."
   ]
  },
  {
   "cell_type": "code",
   "execution_count": 1,
   "id": "36bd4087-4c94-47a7-b895-f71a6022e3d9",
   "metadata": {
    "editable": true,
    "slideshow": {
     "slide_type": ""
    },
    "tags": []
   },
   "outputs": [
    {
     "data": {
      "text/plain": [
       "False"
      ]
     },
     "execution_count": 1,
     "metadata": {},
     "output_type": "execute_result"
    }
   ],
   "source": [
    "2 == 3"
   ]
  },
  {
   "cell_type": "code",
   "execution_count": 2,
   "id": "423f5c67",
   "metadata": {
    "editable": true,
    "slideshow": {
     "slide_type": "fragment"
    },
    "tags": []
   },
   "outputs": [
    {
     "name": "stdout",
     "output_type": "stream",
     "text": [
      "Wrong \n"
     ]
    }
   ],
   "source": [
    "try:\n",
    "    # checks if a statement is True\n",
    "    assert(2 == 3)\n",
    "except Exception as e:\n",
    "    print(f\"Wrong {e}\")"
   ]
  },
  {
   "cell_type": "markdown",
   "id": "b5c2ec66",
   "metadata": {
    "editable": true,
    "slideshow": {
     "slide_type": "slide"
    },
    "tags": []
   },
   "source": [
    "## Keep a log\n",
    "\n",
    "Get familiar with a [log file](https://realpython.com/python-logging/). This is basically a place to store `print` statements.\n",
    "Read more here.\n",
    "\n",
    "For a quick version: check the last time a directory was modified."
   ]
  },
  {
   "cell_type": "code",
   "execution_count": 3,
   "id": "ea5bdabf-5754-4888-9f61-7ef17975fe56",
   "metadata": {
    "editable": true,
    "slideshow": {
     "slide_type": "subslide"
    },
    "tags": []
   },
   "outputs": [],
   "source": [
    "import logging\n",
    "\n",
    "logger = logging.getLogger(__name__)\n",
    "logging.basicConfig(filename='example.log', encoding='utf-8', level=logging.DEBUG)\n",
    "logger.debug('This message should go to the log file')\n",
    "logger.info('So should this')\n",
    "logger.warning('And this, too')"
   ]
  },
  {
   "cell_type": "code",
   "execution_count": 4,
   "id": "89b0faf1-0540-4364-9570-eb8f0a1266ba",
   "metadata": {
    "editable": true,
    "slideshow": {
     "slide_type": "subslide"
    },
    "tags": []
   },
   "outputs": [
    {
     "name": "stdout",
     "output_type": "stream",
     "text": [
      "DEBUG:__main__:This message should go to the log file\n",
      "INFO:__main__:So should this\n",
      "WARNING:__main__:And this, too\n",
      "DEBUG:parso.python.diff:diff parser start\n",
      "DEBUG:parso.python.diff:line_lengths old: 1; new: 1\n",
      "DEBUG:parso.python.diff:-> code[replace] old[1:1] new[1:1]\n",
      "DEBUG:parso.python.diff:parse_part from 1 to 1 (to 0 in part parser)\n",
      "DEBUG:parso.python.diff:diff parser end\n",
      "DEBUG:__main__:This message should go to the log file\n",
      "INFO:__main__:So should this\n",
      "WARNING:__main__:And this, too\n",
      "DEBUG:__main__:This message should go to the log file\n",
      "INFO:__main__:So should this\n",
      "WARNING:__main__:And this, too\n",
      "DEBUG:__main__:This message should go to the log file\n",
      "INFO:__main__:So should this\n",
      "WARNING:__main__:And this, too\n"
     ]
    }
   ],
   "source": [
    "!cat example.log"
   ]
  },
  {
   "cell_type": "markdown",
   "id": "fd869984",
   "metadata": {
    "editable": true,
    "slideshow": {
     "slide_type": "slide"
    },
    "tags": []
   },
   "source": [
    "# Productionalizing Scrapers\n",
    "\n",
    "See more from [this presentation](https://docs.google.com/presentation/d/1K5ttTgP1f6ghL06kj6QqyqsGccU_Ttxh1otdx5wWYGo/edit#slide=id.p).\n",
    "\n",
    "Simple tips:\n",
    "1. Don't repeat work\n",
    "     - Structured naming system for outputs, check if it exists first.\n",
    "2. Keep receipts\n",
    "    - Save the timestamp (when data was collected) and the raw data.\n",
    "3. Break up the work. Make the scraper as simple as possible.\n",
    "For example, a scraper handles one city in Zillow.\n",
    "    - Paginate, save results. That's all\n",
    "    - Another scraper takes the saved HTML, and parses it and inserts it into a database.\n",
    "4. Keep a schedule.\n",
    "    - Use `cron` to schedule jobs locally. For example, cron allows an hourly job or one that runs every day at 4:30pm. Read [more](https://ostechnix.com/a-beginners-guide-to-cron-jobs/).\n",
    "    - Other tools exist to do this on the cloud.\n",
    "5. Keep tabs on inputs with a TODO list.\n",
    "    - Use a CSV if you know what you want.\n",
    "    - Use AWS SQS (similar to a commercial kitchen's ticket system). My fave!\n",
    "6. Can you scale up?\n",
    "    - If scrapers are simple, it's easy to parallelize them.\n",
    "    - If local: use async computing or `Multiprocessing`.\n"
   ]
  },
  {
   "cell_type": "code",
   "execution_count": 5,
   "id": "849d978a-718d-45fb-a6e0-d1448fe3d03a",
   "metadata": {
    "editable": true,
    "slideshow": {
     "slide_type": "slide"
    },
    "tags": []
   },
   "outputs": [
    {
     "name": "stdout",
     "output_type": "stream",
     "text": [
      "Write the file\n"
     ]
    }
   ],
   "source": [
    "import os\n",
    "\n",
    "# make a folder for data\n",
    "os.makedirs('data/', exist_ok=True)\n",
    "\n",
    "fn_out = 'data/output.csv'\n",
    "\n",
    "# check if the file exists\n",
    "if not os.path.exists(fn_out):\n",
    "    print(\"Write the file\")\n",
    "    # do something\n",
    "\n",
    "else:\n",
    "    print(\"File exists\")\n",
    "    # do nothing"
   ]
  },
  {
   "cell_type": "markdown",
   "id": "5fdb3bb4",
   "metadata": {
    "editable": true,
    "slideshow": {
     "slide_type": "slide"
    },
    "tags": []
   },
   "source": [
    "# Tools\n",
    "- cron: schedule scripts and scrapers on a local machine.\n",
    "- htop: view your computer's resources. For example, how many CPUs are being used and how much memory used.\n",
    "- multiprocessing"
   ]
  },
  {
   "cell_type": "markdown",
   "id": "b265f497",
   "metadata": {
    "editable": true,
    "slideshow": {
     "slide_type": "slide"
    },
    "tags": []
   },
   "source": [
    "## TQDM\n",
    "A useful status bar"
   ]
  },
  {
   "cell_type": "code",
   "execution_count": 6,
   "id": "74e9fd65-e328-483d-a4da-e59bbf11a1cd",
   "metadata": {
    "editable": true,
    "slideshow": {
     "slide_type": "skip"
    },
    "tags": []
   },
   "outputs": [
    {
     "name": "stdout",
     "output_type": "stream",
     "text": [
      "Requirement already satisfied: tqdm in /Users/lyin72/miniconda3/lib/python3.11/site-packages (4.65.0)\n"
     ]
    }
   ],
   "source": [
    "!pip install tqdm"
   ]
  },
  {
   "cell_type": "code",
   "execution_count": 7,
   "id": "93d26a34",
   "metadata": {
    "editable": true,
    "slideshow": {
     "slide_type": "slide"
    },
    "tags": []
   },
   "outputs": [],
   "source": [
    "import time\n",
    "from tqdm import tqdm"
   ]
  },
  {
   "cell_type": "code",
   "execution_count": 8,
   "id": "6262015d",
   "metadata": {
    "editable": true,
    "slideshow": {
     "slide_type": "slide"
    },
    "tags": []
   },
   "outputs": [],
   "source": [
    "def example_function(n):\n",
    "    \"\"\"\n",
    "    Sleeps for 1 seconds with an arbitrary input\n",
    "    \"\"\"\n",
    "    time.sleep(1)\n",
    "    # print(n)\n",
    "    return n"
   ]
  },
  {
   "cell_type": "code",
   "execution_count": 9,
   "id": "8ecc4661",
   "metadata": {
    "editable": true,
    "slideshow": {
     "slide_type": "slide"
    },
    "tags": []
   },
   "outputs": [
    {
     "name": "stderr",
     "output_type": "stream",
     "text": [
      "100%|███████████████████████████████████████████████████████████████████████████████████████████████████████████████████████████████████████████████| 10/10 [00:10<00:00,  1.01s/it]\n"
     ]
    }
   ],
   "source": [
    "ex_inputs = list(range(10))\n",
    "\n",
    "for i in tqdm(ex_inputs):\n",
    "    example_function(i)\n",
    "    pass"
   ]
  },
  {
   "cell_type": "markdown",
   "id": "866cd903",
   "metadata": {
    "editable": true,
    "slideshow": {
     "slide_type": "slide"
    },
    "tags": []
   },
   "source": [
    "### Multiprocessing\n",
    "Check this [gist](https://gist.github.com/yinleon/8b7555afbbeed47e439dbd2364b8d404)."
   ]
  },
  {
   "cell_type": "code",
   "execution_count": 10,
   "id": "153516e9-b3bd-4a8f-aa1e-fb005d454c79",
   "metadata": {
    "editable": true,
    "slideshow": {
     "slide_type": "skip"
    },
    "tags": []
   },
   "outputs": [
    {
     "name": "stdout",
     "output_type": "stream",
     "text": [
      "Requirement already satisfied: multiprocess in /Users/lyin72/miniconda3/lib/python3.11/site-packages (0.70.16)\n",
      "Requirement already satisfied: dill>=0.3.8 in /Users/lyin72/miniconda3/lib/python3.11/site-packages (from multiprocess) (0.3.8)\n"
     ]
    }
   ],
   "source": [
    "!pip install multiprocess"
   ]
  },
  {
   "cell_type": "code",
   "execution_count": 13,
   "id": "f8279b0a",
   "metadata": {
    "editable": true,
    "slideshow": {
     "slide_type": "slide"
    },
    "tags": []
   },
   "outputs": [
    {
     "name": "stderr",
     "output_type": "stream",
     "text": [
      "20it [00:05,  3.99it/s]\n"
     ]
    }
   ],
   "source": [
    "from multiprocess import Pool\n",
    "\n",
    "ex_inputs = list(range(20))\n",
    "\n",
    "data = []\n",
    "with Pool(processes=4) as pool:\n",
    "    for record in tqdm(pool.imap_unordered(example_function, \n",
    "                                           ex_inputs)):\n",
    "        data.append(record)"
   ]
  },
  {
   "cell_type": "markdown",
   "id": "02663b19",
   "metadata": {
    "editable": true,
    "slideshow": {
     "slide_type": ""
    },
    "tags": []
   },
   "source": [
    "Notice that order doesn't matter here"
   ]
  }
 ],
 "metadata": {
  "kernelspec": {
   "display_name": "Python 3 (ipykernel)",
   "language": "python",
   "name": "python3"
  },
  "language_info": {
   "codemirror_mode": {
    "name": "ipython",
    "version": 3
   },
   "file_extension": ".py",
   "mimetype": "text/x-python",
   "name": "python",
   "nbconvert_exporter": "python",
   "pygments_lexer": "ipython3",
   "version": "3.11.4"
  }
 },
 "nbformat": 4,
 "nbformat_minor": 5
}
