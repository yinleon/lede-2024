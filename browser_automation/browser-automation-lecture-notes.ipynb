{
 "cells": [
  {
   "cell_type": "markdown",
   "id": "86bda04e",
   "metadata": {},
   "source": [
    "# Browser Automation Lecture Notes\n",
    "Date: 2024-07-16\n",
    "\n",
    "We'll use this notebook to work through some examples and showcase some essential functions in Playwright."
   ]
  },
  {
   "cell_type": "code",
   "execution_count": 1,
   "id": "3c4fdd7b",
   "metadata": {},
   "outputs": [],
   "source": [
    "import os\n",
    "import random\n",
    "import time\n",
    "\n",
    "from playwright.async_api import async_playwright, expect"
   ]
  },
  {
   "cell_type": "code",
   "execution_count": 2,
   "id": "3eddd175",
   "metadata": {},
   "outputs": [],
   "source": [
    "os.makedirs('data/', exist_ok=True)"
   ]
  },
  {
   "cell_type": "code",
   "execution_count": 3,
   "id": "7e025cfe-598b-4884-9f02-71eb28c4255b",
   "metadata": {},
   "outputs": [],
   "source": [
    "# Start the browser\n",
    "playwright = await async_playwright().start()"
   ]
  },
  {
   "cell_type": "code",
   "execution_count": 4,
   "id": "a231db76-64b5-4185-bf1f-8032636ff799",
   "metadata": {},
   "outputs": [],
   "source": [
    "browser = await playwright.chromium.launch(headless=False)"
   ]
  },
  {
   "cell_type": "code",
   "execution_count": 5,
   "id": "494e95cd-fb53-4df7-842b-a4a4cb0472a6",
   "metadata": {},
   "outputs": [],
   "source": [
    "await browser.close()"
   ]
  },
  {
   "cell_type": "code",
   "execution_count": 6,
   "id": "2dddc486",
   "metadata": {},
   "outputs": [],
   "source": [
    "async def open_browser(headless=False):\n",
    "    \"\"\"\n",
    "    Starts the automated browser and opens a new window\n",
    "    \"\"\"\n",
    "    # Start playwright\n",
    "    playwright = await async_playwright().start()\n",
    "\n",
    "    # Open firefox browser, can use chromium (chrome) or others\n",
    "    browser = await playwright.firefox.launch(headless=headless)\n",
    "  \n",
    "    # Create a new browser window\n",
    "    page = await browser.new_page()\n",
    "\n",
    "    return browser, page"
   ]
  },
  {
   "cell_type": "code",
   "execution_count": 7,
   "id": "1a1b8eb3",
   "metadata": {},
   "outputs": [],
   "source": [
    "driver, page = await open_browser()"
   ]
  },
  {
   "cell_type": "code",
   "execution_count": 8,
   "id": "aba745a4",
   "metadata": {},
   "outputs": [
    {
     "data": {
      "text/plain": [
       "<Response url='https://www.amazon.com/' request=<Request url='https://www.amazon.com/' method='GET'>>"
      ]
     },
     "execution_count": 8,
     "metadata": {},
     "output_type": "execute_result"
    }
   ],
   "source": [
    "# visit a URL\n",
    "url = 'https://amazon.com'\n",
    "await page.goto(url)"
   ]
  },
  {
   "cell_type": "markdown",
   "id": "8232b625",
   "metadata": {},
   "source": [
    "## XPATH\n",
    "You learned about beautifulSoup to work with HTML...\n",
    "\n",
    "Xpath is another way to navigate hierarchical structures of HTML and SVG\n",
    "\n",
    "It's fast, versatile, and can be used in the developer console and in any computing language."
   ]
  },
  {
   "cell_type": "markdown",
   "id": "2cfe1a48",
   "metadata": {},
   "source": [
    "## Using XPATH\n",
    "You can test xpaths in the devloper tools under the `console` tab using the function `$x()`. Read about that function [here](https://developer.chrome.com/docs/devtools/console/utilities/#xpath-function).\n",
    "\n",
    "\n",
    "You can use Playwright's `locator` [function](https://playwright.dev/python/docs/locators#locate-by-css-or-xpath) to find the search box on Amazon site using an xpath or css selector. It'll return the first match unless you add `.all()` to the located elements.\n",
    "\n",
    "Playwright allows other [locators](https://playwright.dev/python/docs/locators#quick-guide), which the developers suggest (but I don't)."
   ]
  },
  {
   "cell_type": "markdown",
   "id": "a7de9e13",
   "metadata": {},
   "source": [
    "Example of an xpath!\n",
    "\n",
    "//input[@aria-label=\"Search Amazon\"]"
   ]
  },
  {
   "cell_type": "markdown",
   "id": "d6e5a854-0b8f-4b20-8728-721a8bb234cc",
   "metadata": {},
   "source": [
    "### Finding elements and performing actons\n",
    "Browser automation is largely about locating elements on the page, and interacting with them in some way.\n",
    "This can involve filling forms, mocking pressing buttons on a keyboard, clicking things."
   ]
  },
  {
   "cell_type": "code",
   "execution_count": 9,
   "id": "ad7ac28b-2a6e-45b3-aa9e-29f8dc175209",
   "metadata": {},
   "outputs": [],
   "source": [
    "# here's how you can do that with xpath\n",
    "# search_bar = page.locator('//input[@aria-label=\"Search Amazon\"]')"
   ]
  },
  {
   "cell_type": "code",
   "execution_count": 10,
   "id": "eb8ac01f-276f-4c06-9c6c-800bccab1b8b",
   "metadata": {},
   "outputs": [],
   "source": [
    "search_bar = page.get_by_placeholder(\"Search Amazon\")"
   ]
  },
  {
   "cell_type": "code",
   "execution_count": 11,
   "id": "85bb5a08-0f8c-44d9-bbbc-3ea10a954b08",
   "metadata": {},
   "outputs": [
    {
     "data": {
      "text/plain": [
       "<Locator frame=<Frame name= url='https://www.amazon.com/'> selector='internal:attr=[placeholder=\"Search Amazon\"i]'>"
      ]
     },
     "execution_count": 11,
     "metadata": {},
     "output_type": "execute_result"
    }
   ],
   "source": [
    "search_bar"
   ]
  },
  {
   "cell_type": "code",
   "execution_count": 12,
   "id": "73b3ff69-a819-4bcb-90d7-777067d364ed",
   "metadata": {},
   "outputs": [],
   "source": [
    "await search_bar.fill('TEST')"
   ]
  },
  {
   "cell_type": "code",
   "execution_count": 13,
   "id": "2934f057",
   "metadata": {},
   "outputs": [],
   "source": [
    "search_term = 'womens shirt'\n",
    "await search_bar.fill(search_term)"
   ]
  },
  {
   "cell_type": "markdown",
   "id": "56658db4-b8a6-4f30-b15e-4d80a49b8809",
   "metadata": {},
   "source": [
    "You can make the search either by inputting the \"Enter\" button, or finding the search button and clicking it.\n",
    "\n",
    "Here's how you can press a [keyboard](https://playwright.dev/docs/api/class-keyboard) button."
   ]
  },
  {
   "cell_type": "code",
   "execution_count": 14,
   "id": "54469b13",
   "metadata": {},
   "outputs": [],
   "source": [
    "await page.keyboard.press(\"Enter\")"
   ]
  },
  {
   "cell_type": "markdown",
   "id": "1a1a5aaa-cb18-48ac-b24b-66ed18d3d94d",
   "metadata": {},
   "source": [
    "Alternatively, you can locate the button perform an [action](https://playwright.dev/python/docs/input#mouse-click) such as a mouse `click`."
   ]
  },
  {
   "cell_type": "code",
   "execution_count": 15,
   "id": "70236f78-d106-4627-ad66-58ca6086708d",
   "metadata": {},
   "outputs": [],
   "source": [
    "# search_button = page.locator('//input[@id=\"nav-search-submit-button\"]')\n",
    "# await search_button.click()"
   ]
  },
  {
   "cell_type": "markdown",
   "id": "5faa8a52",
   "metadata": {},
   "source": [
    "### Parse the products\n",
    "\n",
    "For each product, let's print the brand name:"
   ]
  },
  {
   "cell_type": "code",
   "execution_count": 16,
   "id": "d2f74326-4ac2-4362-8751-c304f0197e05",
   "metadata": {},
   "outputs": [
    {
     "data": {
      "text/plain": [
       "0"
      ]
     },
     "execution_count": 16,
     "metadata": {},
     "output_type": "execute_result"
    }
   ],
   "source": [
    "# contains supports substring matches\n",
    "xpath_product = '//div[contains(@cel_widget_id, \"MAIN-SEARCH_RESULTS-\")]'\n",
    "product_tiles = await page.locator(xpath_product).all()\n",
    "len(product_tiles)"
   ]
  },
  {
   "cell_type": "markdown",
   "id": "d21718da-4382-4b6d-a21e-33d49bca49d1",
   "metadata": {},
   "source": [
    "Notice we're adding `.all()` to the command, this will return a list, rather than the first element.\n",
    "\n",
    "If you run all the cells at once, the above will return zero results. This is because the browser needs to await for the element to be visible.\n",
    "\n",
    "You can force the browser to sleep or check the element is visible."
   ]
  },
  {
   "cell_type": "code",
   "execution_count": 17,
   "id": "7722715b-5fa8-4471-9120-60fa5a3b6b35",
   "metadata": {},
   "outputs": [],
   "source": [
    "# Let's wait for the first product to load\n",
    "await expect(page.locator(xpath_product).first).to_be_visible()"
   ]
  },
  {
   "cell_type": "code",
   "execution_count": 18,
   "id": "064dbf4a-a27c-4c88-9eef-2b130813c73f",
   "metadata": {},
   "outputs": [
    {
     "data": {
      "text/plain": [
       "47"
      ]
     },
     "execution_count": 18,
     "metadata": {},
     "output_type": "execute_result"
    }
   ],
   "source": [
    "# run it again, after waiting for the elements to be rendered\n",
    "product_tiles = await page.locator(xpath_product).all()\n",
    "len(product_tiles)"
   ]
  },
  {
   "cell_type": "markdown",
   "id": "ddf255ec-2208-4b16-b041-d65114fa307a",
   "metadata": {},
   "source": [
    "This is the sleeping method"
   ]
  },
  {
   "cell_type": "code",
   "execution_count": 19,
   "id": "405386af-41b1-4bdb-9a44-955c5dd2f192",
   "metadata": {},
   "outputs": [],
   "source": [
    "# import asyncio\n",
    "\n",
    "# await asyncio.sleep(2)\n",
    "# product_tiles = await page.locator(xpath_product).all()"
   ]
  },
  {
   "cell_type": "markdown",
   "id": "31e0b1be-c168-4062-9338-eff4bba3cc50",
   "metadata": {},
   "source": [
    "Let's parse one product"
   ]
  },
  {
   "cell_type": "code",
   "execution_count": 20,
   "id": "7c4a09f6",
   "metadata": {},
   "outputs": [],
   "source": [
    "prod = product_tiles[0]"
   ]
  },
  {
   "cell_type": "code",
   "execution_count": 21,
   "id": "0bb1ca3b-7f09-4264-8bde-95a1a1607070",
   "metadata": {},
   "outputs": [
    {
     "data": {
      "text/plain": [
       "'\\n\\n\\n\\n    \\n\\n\\n\\n    +45 colors/patternsFeatured from Amazon brandsFeatured from Amazon brands Amazon EssentialsWomen\\'s Classic-Fit Short-Sleeve V-Neck T-Shirt, Multipacks  4.4 out of 5 stars 49,105  100+ bought in past month$19.00$19.00 FREE delivery Sat, Jul 20 on $35 of items shipped by AmazonOr fastest delivery Wed, Jul 17   1 sustainability feature<img alt=\"\" src=\"https://m.media-amazon.com/images/I/11++B3A2NEL.png\" height=\"24px\" width=\"24px\"/>  Sustainability featuresThis product has sustainability features recognized by trusted certifications. Safer chemicalsMade with chemicals safer for human health and the environment.As certified by<img alt=\"\" src=\"https://m.media-amazon.com/images/I/51YvKwF01yL._SS200_.jpg\" height=\"24px\" width=\"24px\"/>  OEKO-TEX STANDARD 100Learn more about OEKO-TEX STANDARD 100<img alt=\"\" src=\"https://m.media-amazon.com/images/I/51YvKwF01yL._SS200_.jpg\" height=\"36px\" width=\"36px\"/> OEKO-TEX STANDARD 100STANDARD 100 by OEKO-TEX requires every component of a textiles product—including all thread, buttons, and trims—to be tested against a list of more than 1,000 harmful regulated and unregulated chemicals which may be harmful to human health. The assessment process is globally standardized, independently conducted, and updated at least once a year based on new scientific information or regulatory requirements. Certification focus: #ProductSafety and #ChemicalsUsed.Certification Number23.HTW.96124Part of<img alt=\"\" src=\"https://m.media-amazon.com/images/I/11qFTG64RvL.png\" height=\"24px\" width=\"24px\"/>  Climate Pledge Friendly \\n\\n\\n\\n'"
      ]
     },
     "execution_count": 21,
     "metadata": {},
     "output_type": "execute_result"
    }
   ],
   "source": [
    "# see the text of the element\n",
    "await prod.text_content()"
   ]
  },
  {
   "cell_type": "markdown",
   "id": "21df89ce",
   "metadata": {},
   "source": [
    "Let's iterate through each product and print the brand name, which is saved as a header (h2) with a unique class in the element:"
   ]
  },
  {
   "cell_type": "code",
   "execution_count": 22,
   "id": "57a24ac6",
   "metadata": {},
   "outputs": [
    {
     "name": "stdout",
     "output_type": "stream",
     "text": [
      "Amazon Essentials\n",
      "Abardsion\n",
      "Artfish\n",
      "Abardsion\n",
      "AUTOMET\n",
      "AUTOMET\n",
      "AUTOMET\n",
      "AUTOMET\n",
      "AUTOMET\n",
      "Dokotoo\n",
      "Amazon Essentials\n",
      "Kistore\n",
      "Lunivop\n",
      "OFEEFAN\n",
      "MEROKEETY\n",
      "MEROKEETY\n",
      "AUTOMET\n",
      "AUTOMET\n",
      "AISEW\n",
      "OFEEFAN\n",
      "MEROKEETY\n",
      "QINSEN\n",
      "Dokotoo\n",
      "MEROKEETY\n",
      "MEROKEETY\n",
      "AUTOMET\n",
      "Blooming Jelly\n",
      "Dokotoo\n",
      "PRETTYGARDEN\n",
      "Real Essentials\n",
      "ZESICA\n",
      "Dokotoo\n",
      "Dokotoo\n",
      "Blooming Jelly\n",
      "ATHMILE\n",
      "AUTOMET\n",
      "Heymiss\n",
      "WIHOLL\n",
      "ATHMILE\n",
      "Basoteeuo\n",
      "Adibosy\n",
      "Made By Johnny\n",
      "SUNBS\n",
      "Beautife\n",
      "ATHMILE\n",
      "SUNBS\n",
      "Dokotoo\n"
     ]
    }
   ],
   "source": [
    "xpath_brand = '//h2[@class=\"a-size-mini s-line-clamp-1\"]'\n",
    "for product in product_tiles:\n",
    "    brand = await product.locator(xpath_brand).text_content()\n",
    "    print(brand)"
   ]
  },
  {
   "cell_type": "markdown",
   "id": "103eae3f",
   "metadata": {},
   "source": [
    "Although we did this all using Playwright, it's better to save the page source and then parse the saved results in BeautifulSoup, lxml, or whatever parsing software you prefer."
   ]
  },
  {
   "cell_type": "markdown",
   "id": "b34a404f",
   "metadata": {},
   "source": [
    "### Annotate the elements we find\n",
    "Let's find all the ads, and highlight them red on the page."
   ]
  },
  {
   "cell_type": "code",
   "execution_count": 23,
   "id": "3c003f5f",
   "metadata": {},
   "outputs": [],
   "source": [
    "xpath_ads = '//div[@data-asin and .//a[@aria-label=\"View Sponsored information or leave ad feedback\"]]'\n",
    "ads = await page.locator(xpath_ads).all()"
   ]
  },
  {
   "cell_type": "code",
   "execution_count": 24,
   "id": "e6b82ef0",
   "metadata": {
    "scrolled": true
   },
   "outputs": [
    {
     "data": {
      "text/plain": [
       "11"
      ]
     },
     "execution_count": 24,
     "metadata": {},
     "output_type": "execute_result"
    }
   ],
   "source": [
    "len(ads)"
   ]
  },
  {
   "cell_type": "markdown",
   "id": "426b86f1-be60-4804-85a2-bd1e3a5bf935",
   "metadata": {},
   "source": [
    "You can \"inject\" attributes into elements, including style attributes."
   ]
  },
  {
   "cell_type": "code",
   "execution_count": 25,
   "id": "dd657615-1abc-486f-96eb-78259e544611",
   "metadata": {},
   "outputs": [],
   "source": [
    "elem = ads[0]"
   ]
  },
  {
   "cell_type": "code",
   "execution_count": 26,
   "id": "65ae9f78-6e8d-4fa5-a7e2-9a055f2317c5",
   "metadata": {},
   "outputs": [],
   "source": [
    "style = f\"background-color: red !important; transition: all 0.5s linear;\""
   ]
  },
  {
   "cell_type": "code",
   "execution_count": 27,
   "id": "ee0ac832-d7f7-4bc9-9572-6dfb1784dac3",
   "metadata": {},
   "outputs": [],
   "source": [
    "await elem.evaluate(f\"el => el.setAttribute('style','{style}')\")"
   ]
  },
  {
   "cell_type": "code",
   "execution_count": 28,
   "id": "36b75c42",
   "metadata": {},
   "outputs": [],
   "source": [
    "async def stain(elem, color = 'red'):\n",
    "    \"\"\"\n",
    "    Injects a style attribute to stain `elem` the `color` red.\n",
    "    \"\"\"\n",
    "    style = f\"background-color: {color} !important; \"\\\n",
    "             \"transition: all 0.5s linear;\"\n",
    "    await elem.evaluate(f\"el => el.setAttribute('style','{style}')\")"
   ]
  },
  {
   "cell_type": "code",
   "execution_count": 29,
   "id": "8d9a1db6",
   "metadata": {},
   "outputs": [],
   "source": [
    "for elem in ads:\n",
    "    await stain(elem)"
   ]
  },
  {
   "cell_type": "markdown",
   "id": "de76b189",
   "metadata": {},
   "source": [
    "### Get height of document"
   ]
  },
  {
   "cell_type": "code",
   "execution_count": 30,
   "id": "72f173e6",
   "metadata": {},
   "outputs": [],
   "source": [
    "import pandas as pd"
   ]
  },
  {
   "cell_type": "code",
   "execution_count": 31,
   "id": "e4ace111",
   "metadata": {},
   "outputs": [],
   "source": [
    "height = await page.evaluate(\"document.body.scrollHeight\")"
   ]
  },
  {
   "cell_type": "code",
   "execution_count": 32,
   "id": "c65a7940",
   "metadata": {},
   "outputs": [
    {
     "data": {
      "text/plain": [
       "13503"
      ]
     },
     "execution_count": 32,
     "metadata": {},
     "output_type": "execute_result"
    }
   ],
   "source": [
    "height"
   ]
  },
  {
   "cell_type": "markdown",
   "id": "c41f9d67",
   "metadata": {},
   "source": [
    "Get the coorindates and size of each element using the `bounding_box` function."
   ]
  },
  {
   "cell_type": "code",
   "execution_count": 33,
   "id": "c6056962-e13a-470f-a251-3f8eabcce5d0",
   "metadata": {},
   "outputs": [
    {
     "data": {
      "text/plain": [
       "{'x': 516.7999877929688,\n",
       " 'y': 3997.416748046875,\n",
       " 'width': 250.39996337890625,\n",
       " 'height': 607.199951171875}"
      ]
     },
     "execution_count": 33,
     "metadata": {},
     "output_type": "execute_result"
    }
   ],
   "source": [
    "await elem.bounding_box()"
   ]
  },
  {
   "cell_type": "code",
   "execution_count": 34,
   "id": "31b2ead4",
   "metadata": {},
   "outputs": [],
   "source": [
    "ad_metadata = []\n",
    "for elem in ads:\n",
    "    if await elem.is_visible(): # use this function to only analyze visable elements\n",
    "        rect = await elem.bounding_box()\n",
    "        ad_metadata.append(rect)"
   ]
  },
  {
   "cell_type": "code",
   "execution_count": 35,
   "id": "5afcb8b0",
   "metadata": {},
   "outputs": [],
   "source": [
    "df = pd.DataFrame(ad_metadata)"
   ]
  },
  {
   "cell_type": "code",
   "execution_count": 36,
   "id": "75332861-1150-4fec-aa41-40db2383bed9",
   "metadata": {},
   "outputs": [
    {
     "data": {
      "text/plain": [
       "0      528.716675\n",
       "1      528.716675\n",
       "2      528.716675\n",
       "3     1778.116699\n",
       "4     2172.816650\n",
       "5     2801.016602\n",
       "6     2801.016602\n",
       "7     3409.216553\n",
       "8     3409.216553\n",
       "9     3997.416748\n",
       "10    3997.416748\n",
       "Name: y, dtype: float64"
      ]
     },
     "execution_count": 36,
     "metadata": {},
     "output_type": "execute_result"
    }
   ],
   "source": [
    "df['y']"
   ]
  },
  {
   "cell_type": "code",
   "execution_count": 37,
   "id": "668b8cce",
   "metadata": {},
   "outputs": [],
   "source": [
    "df['how_far_down'] = df['y'] / height"
   ]
  },
  {
   "cell_type": "code",
   "execution_count": 38,
   "id": "06056c2e",
   "metadata": {},
   "outputs": [
    {
     "data": {
      "text/plain": [
       "how_far_down\n",
       "0.039155    3\n",
       "0.207437    2\n",
       "0.252478    2\n",
       "0.296039    2\n",
       "0.131683    1\n",
       "0.160914    1\n",
       "Name: count, dtype: int64"
      ]
     },
     "execution_count": 38,
     "metadata": {},
     "output_type": "execute_result"
    }
   ],
   "source": [
    "df.how_far_down.value_counts()"
   ]
  },
  {
   "cell_type": "markdown",
   "id": "5ca3128a",
   "metadata": {},
   "source": [
    "### Save receipts"
   ]
  },
  {
   "cell_type": "code",
   "execution_count": 39,
   "id": "80e0884f",
   "metadata": {},
   "outputs": [],
   "source": [
    "# how to save what the emulator sees\n",
    "source = await page.content()\n",
    "with open('data/amazon_selenium_test.html', 'w') as f:\n",
    "    f.write(source)"
   ]
  },
  {
   "cell_type": "code",
   "execution_count": 40,
   "id": "e33a076e",
   "metadata": {},
   "outputs": [],
   "source": [
    "# just what's visible\n",
    "screenshot = await page.screenshot(path='data/amazon_selenium_test.png')"
   ]
  },
  {
   "cell_type": "markdown",
   "id": "844168b6",
   "metadata": {},
   "source": [
    "### Parsing the results however you like\n",
    "For me it means using lxml, but you can do this same thing in BeautifulSoup, and I encourage you do so..."
   ]
  },
  {
   "cell_type": "code",
   "execution_count": 41,
   "id": "bd60df79",
   "metadata": {},
   "outputs": [],
   "source": [
    "from lxml import etree"
   ]
  },
  {
   "cell_type": "code",
   "execution_count": 42,
   "id": "1507e08c",
   "metadata": {},
   "outputs": [],
   "source": [
    "dom = etree.HTML(open('data/amazon_selenium_test.html').read())"
   ]
  },
  {
   "cell_type": "code",
   "execution_count": 43,
   "id": "00ae9ecc",
   "metadata": {},
   "outputs": [],
   "source": [
    "product_metadata = []\n",
    "for result in dom.xpath('.//div[contains(@cel_widget_id, \"MAIN-SEARCH_RESULTS\")]'):\n",
    "    # this is where you can parse as many fields as you like.\n",
    "    brand, product_name = result.xpath('.//h2//text()')[:2]\n",
    "    product_metadata.append({\n",
    "        'brand': brand,\n",
    "        'product_name': product_name\n",
    "    })"
   ]
  },
  {
   "cell_type": "code",
   "execution_count": 44,
   "id": "3dab1008",
   "metadata": {},
   "outputs": [
    {
     "data": {
      "text/html": [
       "<div>\n",
       "<style scoped>\n",
       "    .dataframe tbody tr th:only-of-type {\n",
       "        vertical-align: middle;\n",
       "    }\n",
       "\n",
       "    .dataframe tbody tr th {\n",
       "        vertical-align: top;\n",
       "    }\n",
       "\n",
       "    .dataframe thead th {\n",
       "        text-align: right;\n",
       "    }\n",
       "</style>\n",
       "<table border=\"1\" class=\"dataframe\">\n",
       "  <thead>\n",
       "    <tr style=\"text-align: right;\">\n",
       "      <th></th>\n",
       "      <th>brand</th>\n",
       "      <th>product_name</th>\n",
       "    </tr>\n",
       "  </thead>\n",
       "  <tbody>\n",
       "    <tr>\n",
       "      <th>0</th>\n",
       "      <td>Amazon Essentials</td>\n",
       "      <td>Women's Classic-Fit Short-Sleeve V-Neck T-Shir...</td>\n",
       "    </tr>\n",
       "    <tr>\n",
       "      <th>1</th>\n",
       "      <td>Abardsion</td>\n",
       "      <td>Women's Casual Basic Going Out Crop Tops Slim ...</td>\n",
       "    </tr>\n",
       "    <tr>\n",
       "      <th>2</th>\n",
       "      <td>Artfish</td>\n",
       "      <td>Women's Scoop Neck Sleeveless Knit Ribbed Fitt...</td>\n",
       "    </tr>\n",
       "    <tr>\n",
       "      <th>3</th>\n",
       "      <td>Abardsion</td>\n",
       "      <td>2024 Women Casual Activewear T Shirts Basic Cr...</td>\n",
       "    </tr>\n",
       "    <tr>\n",
       "      <th>4</th>\n",
       "      <td>AUTOMET</td>\n",
       "      <td>T Shirts Short Sleeve Crewneck Tees for Women ...</td>\n",
       "    </tr>\n",
       "    <tr>\n",
       "      <th>5</th>\n",
       "      <td>AUTOMET</td>\n",
       "      <td>Womens V Neck Tshirts Cap Sleeve Casual Tops O...</td>\n",
       "    </tr>\n",
       "    <tr>\n",
       "      <th>6</th>\n",
       "      <td>AUTOMET</td>\n",
       "      <td>Womens Tshirts Trendy Dressy Tops Business Cas...</td>\n",
       "    </tr>\n",
       "    <tr>\n",
       "      <th>7</th>\n",
       "      <td>AUTOMET</td>\n",
       "      <td>Women Tops Casual Basic T Shirts Loose Fit Cre...</td>\n",
       "    </tr>\n",
       "    <tr>\n",
       "      <th>8</th>\n",
       "      <td>AUTOMET</td>\n",
       "      <td>Womens Tops Casual Spring Summer Tshirts 2024 ...</td>\n",
       "    </tr>\n",
       "    <tr>\n",
       "      <th>9</th>\n",
       "      <td>Dokotoo</td>\n",
       "      <td>Womens Color Block Fashion Short Sleeve Crewne...</td>\n",
       "    </tr>\n",
       "    <tr>\n",
       "      <th>10</th>\n",
       "      <td>Amazon Essentials</td>\n",
       "      <td>Women's Short-Sleeve V-Neck T-Shirt (Available...</td>\n",
       "    </tr>\n",
       "    <tr>\n",
       "      <th>11</th>\n",
       "      <td>Kistore</td>\n",
       "      <td>Womens Casual Crew Neck Short Sleeve Pleated T...</td>\n",
       "    </tr>\n",
       "    <tr>\n",
       "      <th>12</th>\n",
       "      <td>Lunivop</td>\n",
       "      <td>Womens Tops Casual V Neck Short Sleeve Solid C...</td>\n",
       "    </tr>\n",
       "    <tr>\n",
       "      <th>13</th>\n",
       "      <td>OFEEFAN</td>\n",
       "      <td>Women's Pleated Puff Sleeve Tops Summer V Neck...</td>\n",
       "    </tr>\n",
       "    <tr>\n",
       "      <th>14</th>\n",
       "      <td>MEROKEETY</td>\n",
       "      <td>Women's Casual Cap Sleeve Lace Trim V Neck Top...</td>\n",
       "    </tr>\n",
       "    <tr>\n",
       "      <th>15</th>\n",
       "      <td>MEROKEETY</td>\n",
       "      <td>Women's Short Sleeve V Neck Ribbed Knit Button...</td>\n",
       "    </tr>\n",
       "    <tr>\n",
       "      <th>16</th>\n",
       "      <td>AUTOMET</td>\n",
       "      <td>Shirts for Women Round Neck Womens Tops Short ...</td>\n",
       "    </tr>\n",
       "    <tr>\n",
       "      <th>17</th>\n",
       "      <td>AUTOMET</td>\n",
       "      <td>Womens T Shirts Short Sleeve V Neck Tops with ...</td>\n",
       "    </tr>\n",
       "    <tr>\n",
       "      <th>18</th>\n",
       "      <td>AISEW</td>\n",
       "      <td>Womens Button Down Shirts Striped Classic Long...</td>\n",
       "    </tr>\n",
       "    <tr>\n",
       "      <th>19</th>\n",
       "      <td>OFEEFAN</td>\n",
       "      <td>Casual V Neck T Shirts for Women Lace Short Sl...</td>\n",
       "    </tr>\n",
       "    <tr>\n",
       "      <th>20</th>\n",
       "      <td>MEROKEETY</td>\n",
       "      <td>Women's Ribbed Tank Tops Knit Square Neck Slee...</td>\n",
       "    </tr>\n",
       "    <tr>\n",
       "      <th>21</th>\n",
       "      <td>QINSEN</td>\n",
       "      <td>Women's Crew Neck Short Sleeve Bodysuit Double...</td>\n",
       "    </tr>\n",
       "    <tr>\n",
       "      <th>22</th>\n",
       "      <td>Dokotoo</td>\n",
       "      <td>Women's 2024 Fashion Tops 3/4 Sleeve T-Shirts ...</td>\n",
       "    </tr>\n",
       "    <tr>\n",
       "      <th>23</th>\n",
       "      <td>MEROKEETY</td>\n",
       "      <td>Women's 2024 Short Sleeve Striped Color Block ...</td>\n",
       "    </tr>\n",
       "    <tr>\n",
       "      <th>24</th>\n",
       "      <td>MEROKEETY</td>\n",
       "      <td>Women's Casual Cap Sleeve T Shirts Basic Summe...</td>\n",
       "    </tr>\n",
       "    <tr>\n",
       "      <th>25</th>\n",
       "      <td>AUTOMET</td>\n",
       "      <td>Womens Tshirts Trendy Fashion Tops Lace Short ...</td>\n",
       "    </tr>\n",
       "    <tr>\n",
       "      <th>26</th>\n",
       "      <td>Blooming Jelly</td>\n",
       "      <td>Women's Dressy Casual Tops Business Work Blous...</td>\n",
       "    </tr>\n",
       "    <tr>\n",
       "      <th>27</th>\n",
       "      <td>Dokotoo</td>\n",
       "      <td>Women's Casual Ruffle Short Sleeve Tops Cute S...</td>\n",
       "    </tr>\n",
       "    <tr>\n",
       "      <th>28</th>\n",
       "      <td>PRETTYGARDEN</td>\n",
       "      <td>Womens Plain Round Neck Cute Ruffle Short Slee...</td>\n",
       "    </tr>\n",
       "    <tr>\n",
       "      <th>29</th>\n",
       "      <td>Real Essentials</td>\n",
       "      <td>5 Pack: Women's Short Sleeve V-Neck Activewear...</td>\n",
       "    </tr>\n",
       "    <tr>\n",
       "      <th>30</th>\n",
       "      <td>ZESICA</td>\n",
       "      <td>Women's Short Sleeve Square Neck Color Block T...</td>\n",
       "    </tr>\n",
       "    <tr>\n",
       "      <th>31</th>\n",
       "      <td>Dokotoo</td>\n",
       "      <td>Womens Summer Tops Casual Crewneck Short Sleev...</td>\n",
       "    </tr>\n",
       "    <tr>\n",
       "      <th>32</th>\n",
       "      <td>Dokotoo</td>\n",
       "      <td>Women's Casual Boat Neck Short Sleeve Waffle K...</td>\n",
       "    </tr>\n",
       "    <tr>\n",
       "      <th>33</th>\n",
       "      <td>Blooming Jelly</td>\n",
       "      <td>Womens White Blouse V Neck Ruffle Sleeve Flowy...</td>\n",
       "    </tr>\n",
       "    <tr>\n",
       "      <th>34</th>\n",
       "      <td>ATHMILE</td>\n",
       "      <td>Womens T Shirts 2024 Short Sleeve V-Neck Shirt...</td>\n",
       "    </tr>\n",
       "    <tr>\n",
       "      <th>35</th>\n",
       "      <td>AUTOMET</td>\n",
       "      <td>Womens Tops Casual Dressy Basic T Shirts Loose...</td>\n",
       "    </tr>\n",
       "    <tr>\n",
       "      <th>36</th>\n",
       "      <td>Heymiss</td>\n",
       "      <td>Womens Shirts Casual Tunic Tops Color Block Cr...</td>\n",
       "    </tr>\n",
       "    <tr>\n",
       "      <th>37</th>\n",
       "      <td>WIHOLL</td>\n",
       "      <td>Tops for Women Summer Casual Ruffle Trim Sleev...</td>\n",
       "    </tr>\n",
       "    <tr>\n",
       "      <th>38</th>\n",
       "      <td>ATHMILE</td>\n",
       "      <td>Womens Oversized T Shirts Loose Fit Crewneck S...</td>\n",
       "    </tr>\n",
       "    <tr>\n",
       "      <th>39</th>\n",
       "      <td>Basoteeuo</td>\n",
       "      <td>Leopard Print Tops for Women Long Sleeve Crew ...</td>\n",
       "    </tr>\n",
       "    <tr>\n",
       "      <th>40</th>\n",
       "      <td>Adibosy</td>\n",
       "      <td>Women Summer Casual Shirts: Short Sleeve Strip...</td>\n",
       "    </tr>\n",
       "    <tr>\n",
       "      <th>41</th>\n",
       "      <td>Made By Johnny</td>\n",
       "      <td>Women's Solid Short Sleeve Boat Neck V Neck Do...</td>\n",
       "    </tr>\n",
       "    <tr>\n",
       "      <th>42</th>\n",
       "      <td>SUNBS</td>\n",
       "      <td>Womens 2 Pack T Shirts Basic Short Sleeve Tees...</td>\n",
       "    </tr>\n",
       "    <tr>\n",
       "      <th>43</th>\n",
       "      <td>Beautife</td>\n",
       "      <td>Womens Short Sleeve Shirts V Neck Collared But...</td>\n",
       "    </tr>\n",
       "    <tr>\n",
       "      <th>44</th>\n",
       "      <td>ATHMILE</td>\n",
       "      <td>T Shirts Short Sleeve V Neck Tees for Women Fa...</td>\n",
       "    </tr>\n",
       "    <tr>\n",
       "      <th>45</th>\n",
       "      <td>SUNBS</td>\n",
       "      <td>Womens 3 Pack T Shirts Basic Short Sleeve Tees...</td>\n",
       "    </tr>\n",
       "    <tr>\n",
       "      <th>46</th>\n",
       "      <td>Dokotoo</td>\n",
       "      <td>Women's Casual V Neck Alicia Floral Print Smoc...</td>\n",
       "    </tr>\n",
       "    <tr>\n",
       "      <th>47</th>\n",
       "      <td>ZESICA</td>\n",
       "      <td>Women's Short Sleeve Crewneck T Shirt 2024 Sum...</td>\n",
       "    </tr>\n",
       "    <tr>\n",
       "      <th>48</th>\n",
       "      <td>Hanes</td>\n",
       "      <td>Women's Perfect-T Short Sleeve Cotton Crewneck...</td>\n",
       "    </tr>\n",
       "    <tr>\n",
       "      <th>49</th>\n",
       "      <td>Aokosor</td>\n",
       "      <td>Womens T Shirts V Neck Short Sleeve Casual Loo...</td>\n",
       "    </tr>\n",
       "    <tr>\n",
       "      <th>50</th>\n",
       "      <td>AUTOMET</td>\n",
       "      <td>Womens Long Sleeve Round Neck Shirts Basic Tee...</td>\n",
       "    </tr>\n",
       "    <tr>\n",
       "      <th>51</th>\n",
       "      <td>Ladiyo</td>\n",
       "      <td>Womens Color Block Short Sleeve Tops Casual Su...</td>\n",
       "    </tr>\n",
       "    <tr>\n",
       "      <th>52</th>\n",
       "      <td>Dokotoo</td>\n",
       "      <td>Tops for Women Trendy Summer Casual Cap Short ...</td>\n",
       "    </tr>\n",
       "    <tr>\n",
       "      <th>53</th>\n",
       "      <td>Dokotoo</td>\n",
       "      <td>Women's Casual Summer T Shirts Short Sleeve V ...</td>\n",
       "    </tr>\n",
       "    <tr>\n",
       "      <th>54</th>\n",
       "      <td>Aokosor</td>\n",
       "      <td>Womens Summer Tops V Neck T Shirts Swiss Dot P...</td>\n",
       "    </tr>\n",
       "    <tr>\n",
       "      <th>55</th>\n",
       "      <td>Hanes</td>\n",
       "      <td>Women's Sport Cool DRI Polo Shirt, Moisture-Wi...</td>\n",
       "    </tr>\n",
       "    <tr>\n",
       "      <th>56</th>\n",
       "      <td>Binshre</td>\n",
       "      <td>Beach Shirts for Women Hawaiian Graphic Tees S...</td>\n",
       "    </tr>\n",
       "    <tr>\n",
       "      <th>57</th>\n",
       "      <td>AUTOMET</td>\n",
       "      <td>T Shirts Short Sleeve V Neck Tees for Women Fa...</td>\n",
       "    </tr>\n",
       "    <tr>\n",
       "      <th>58</th>\n",
       "      <td>Dokotoo</td>\n",
       "      <td>Womens Leopard Print Tank Tops Crewneck Sleeve...</td>\n",
       "    </tr>\n",
       "    <tr>\n",
       "      <th>59</th>\n",
       "      <td>Arach&amp;Cloz</td>\n",
       "      <td>Womens Lightweight Soft Summer Tops 2024 Versa...</td>\n",
       "    </tr>\n",
       "  </tbody>\n",
       "</table>\n",
       "</div>"
      ],
      "text/plain": [
       "                brand                                       product_name\n",
       "0   Amazon Essentials  Women's Classic-Fit Short-Sleeve V-Neck T-Shir...\n",
       "1           Abardsion  Women's Casual Basic Going Out Crop Tops Slim ...\n",
       "2             Artfish  Women's Scoop Neck Sleeveless Knit Ribbed Fitt...\n",
       "3           Abardsion  2024 Women Casual Activewear T Shirts Basic Cr...\n",
       "4             AUTOMET  T Shirts Short Sleeve Crewneck Tees for Women ...\n",
       "5             AUTOMET  Womens V Neck Tshirts Cap Sleeve Casual Tops O...\n",
       "6             AUTOMET  Womens Tshirts Trendy Dressy Tops Business Cas...\n",
       "7             AUTOMET  Women Tops Casual Basic T Shirts Loose Fit Cre...\n",
       "8             AUTOMET  Womens Tops Casual Spring Summer Tshirts 2024 ...\n",
       "9             Dokotoo  Womens Color Block Fashion Short Sleeve Crewne...\n",
       "10  Amazon Essentials  Women's Short-Sleeve V-Neck T-Shirt (Available...\n",
       "11            Kistore  Womens Casual Crew Neck Short Sleeve Pleated T...\n",
       "12            Lunivop  Womens Tops Casual V Neck Short Sleeve Solid C...\n",
       "13            OFEEFAN  Women's Pleated Puff Sleeve Tops Summer V Neck...\n",
       "14          MEROKEETY  Women's Casual Cap Sleeve Lace Trim V Neck Top...\n",
       "15          MEROKEETY  Women's Short Sleeve V Neck Ribbed Knit Button...\n",
       "16            AUTOMET  Shirts for Women Round Neck Womens Tops Short ...\n",
       "17            AUTOMET  Womens T Shirts Short Sleeve V Neck Tops with ...\n",
       "18              AISEW  Womens Button Down Shirts Striped Classic Long...\n",
       "19            OFEEFAN  Casual V Neck T Shirts for Women Lace Short Sl...\n",
       "20          MEROKEETY  Women's Ribbed Tank Tops Knit Square Neck Slee...\n",
       "21             QINSEN  Women's Crew Neck Short Sleeve Bodysuit Double...\n",
       "22            Dokotoo  Women's 2024 Fashion Tops 3/4 Sleeve T-Shirts ...\n",
       "23          MEROKEETY  Women's 2024 Short Sleeve Striped Color Block ...\n",
       "24          MEROKEETY  Women's Casual Cap Sleeve T Shirts Basic Summe...\n",
       "25            AUTOMET  Womens Tshirts Trendy Fashion Tops Lace Short ...\n",
       "26     Blooming Jelly  Women's Dressy Casual Tops Business Work Blous...\n",
       "27            Dokotoo  Women's Casual Ruffle Short Sleeve Tops Cute S...\n",
       "28       PRETTYGARDEN  Womens Plain Round Neck Cute Ruffle Short Slee...\n",
       "29    Real Essentials  5 Pack: Women's Short Sleeve V-Neck Activewear...\n",
       "30             ZESICA  Women's Short Sleeve Square Neck Color Block T...\n",
       "31            Dokotoo  Womens Summer Tops Casual Crewneck Short Sleev...\n",
       "32            Dokotoo  Women's Casual Boat Neck Short Sleeve Waffle K...\n",
       "33     Blooming Jelly  Womens White Blouse V Neck Ruffle Sleeve Flowy...\n",
       "34            ATHMILE  Womens T Shirts 2024 Short Sleeve V-Neck Shirt...\n",
       "35            AUTOMET  Womens Tops Casual Dressy Basic T Shirts Loose...\n",
       "36            Heymiss  Womens Shirts Casual Tunic Tops Color Block Cr...\n",
       "37             WIHOLL  Tops for Women Summer Casual Ruffle Trim Sleev...\n",
       "38            ATHMILE  Womens Oversized T Shirts Loose Fit Crewneck S...\n",
       "39          Basoteeuo  Leopard Print Tops for Women Long Sleeve Crew ...\n",
       "40            Adibosy  Women Summer Casual Shirts: Short Sleeve Strip...\n",
       "41     Made By Johnny  Women's Solid Short Sleeve Boat Neck V Neck Do...\n",
       "42              SUNBS  Womens 2 Pack T Shirts Basic Short Sleeve Tees...\n",
       "43           Beautife  Womens Short Sleeve Shirts V Neck Collared But...\n",
       "44            ATHMILE  T Shirts Short Sleeve V Neck Tees for Women Fa...\n",
       "45              SUNBS  Womens 3 Pack T Shirts Basic Short Sleeve Tees...\n",
       "46            Dokotoo  Women's Casual V Neck Alicia Floral Print Smoc...\n",
       "47             ZESICA  Women's Short Sleeve Crewneck T Shirt 2024 Sum...\n",
       "48              Hanes  Women's Perfect-T Short Sleeve Cotton Crewneck...\n",
       "49            Aokosor  Womens T Shirts V Neck Short Sleeve Casual Loo...\n",
       "50            AUTOMET  Womens Long Sleeve Round Neck Shirts Basic Tee...\n",
       "51             Ladiyo  Womens Color Block Short Sleeve Tops Casual Su...\n",
       "52            Dokotoo  Tops for Women Trendy Summer Casual Cap Short ...\n",
       "53            Dokotoo  Women's Casual Summer T Shirts Short Sleeve V ...\n",
       "54            Aokosor  Womens Summer Tops V Neck T Shirts Swiss Dot P...\n",
       "55              Hanes  Women's Sport Cool DRI Polo Shirt, Moisture-Wi...\n",
       "56            Binshre  Beach Shirts for Women Hawaiian Graphic Tees S...\n",
       "57            AUTOMET  T Shirts Short Sleeve V Neck Tees for Women Fa...\n",
       "58            Dokotoo  Womens Leopard Print Tank Tops Crewneck Sleeve...\n",
       "59         Arach&Cloz  Womens Lightweight Soft Summer Tops 2024 Versa..."
      ]
     },
     "execution_count": 44,
     "metadata": {},
     "output_type": "execute_result"
    }
   ],
   "source": [
    "pd.DataFrame(product_metadata)"
   ]
  },
  {
   "cell_type": "markdown",
   "id": "f7f54716",
   "metadata": {},
   "source": [
    "### Automate rotating \"AUTOMET\"\n",
    "1. Find all products\n",
    "2. filter to those with brand == AUTOMET\n",
    "3. Find the image\n",
    "    - Inject Javascript to make it spin."
   ]
  },
  {
   "cell_type": "code",
   "execution_count": 45,
   "id": "b40ba5cd",
   "metadata": {},
   "outputs": [],
   "source": [
    "async def spin(elem):\n",
    "    \"\"\"\n",
    "    Injects a style attribute to rotate `elem` 180 degrees.\n",
    "    \"\"\"\n",
    "    style = f\"transform: rotate(180deg) !important; \"\n",
    "    await elem.evaluate(\n",
    "            f\"elm => elm.setAttribute('style','{style}')\"\n",
    "    )"
   ]
  },
  {
   "cell_type": "markdown",
   "id": "e4762659-ac43-44e5-b44c-8c2fd3a4a671",
   "metadata": {},
   "source": [
    "Here's how to do this for ads (which we found previously)"
   ]
  },
  {
   "cell_type": "code",
   "execution_count": 46,
   "id": "971e6756",
   "metadata": {},
   "outputs": [],
   "source": [
    "for elem in ads:\n",
    "    await spin(elem)"
   ]
  },
  {
   "cell_type": "markdown",
   "id": "2e82fadb",
   "metadata": {},
   "source": [
    "## Here's the bountry\n",
    "Ultimately, I want every product image from specific brands (of y0ur choosing) to rotate continuously.\n",
    "You need a full screenshot or a video is fine, too.\n",
    "\n",
    "Also, make sure to save the results before you parse them."
   ]
  },
  {
   "cell_type": "code",
   "execution_count": 47,
   "id": "bc728a7d",
   "metadata": {
    "collapsed": true,
    "jupyter": {
     "outputs_hidden": true
    }
   },
   "outputs": [
    {
     "ename": "NameError",
     "evalue": "name 'TK' is not defined",
     "output_type": "error",
     "traceback": [
      "\u001b[0;31m---------------------------------------------------------------------------\u001b[0m",
      "\u001b[0;31mNameError\u001b[0m                                 Traceback (most recent call last)",
      "Cell \u001b[0;32mIn[47], line 3\u001b[0m\n\u001b[1;32m      1\u001b[0m \u001b[38;5;28;01mfor\u001b[39;00m product \u001b[38;5;129;01min\u001b[39;00m product_tiles:\n\u001b[1;32m      2\u001b[0m     \u001b[38;5;66;03m# get the brand name...\u001b[39;00m\n\u001b[0;32m----> 3\u001b[0m     brand_name \u001b[38;5;241m=\u001b[39m \u001b[38;5;28;01mawait\u001b[39;00m product\u001b[38;5;241m.\u001b[39mlocator(\u001b[43mTK\u001b[49m)\n\u001b[1;32m      5\u001b[0m     \u001b[38;5;66;03m# check if brand is in list\u001b[39;00m\n\u001b[1;32m      6\u001b[0m     \u001b[38;5;28;01mif\u001b[39;00m brand_name \u001b[38;5;129;01min\u001b[39;00m brands_to_spin:\n",
      "\u001b[0;31mNameError\u001b[0m: name 'TK' is not defined"
     ]
    }
   ],
   "source": [
    "for product in product_tiles:\n",
    "    # get the brand name...\n",
    "    brand_name = await product.locator(TK)\n",
    "    \n",
    "    # check if brand is in list\n",
    "    if brand_name in brands_to_spin:\n",
    "        print(product.text_content())\n",
    "        # find the image TK\n",
    "        spin(product)"
   ]
  },
  {
   "cell_type": "code",
   "execution_count": 48,
   "id": "5f463a9f",
   "metadata": {},
   "outputs": [],
   "source": [
    "await driver.close()"
   ]
  },
  {
   "cell_type": "code",
   "execution_count": null,
   "id": "97284f41-de9e-4341-9771-67e85e2f24be",
   "metadata": {},
   "outputs": [],
   "source": []
  }
 ],
 "metadata": {
  "kernelspec": {
   "display_name": "Python 3 (ipykernel)",
   "language": "python",
   "name": "python3"
  },
  "language_info": {
   "codemirror_mode": {
    "name": "ipython",
    "version": 3
   },
   "file_extension": ".py",
   "mimetype": "text/x-python",
   "name": "python",
   "nbconvert_exporter": "python",
   "pygments_lexer": "ipython3",
   "version": "3.11.4"
  }
 },
 "nbformat": 4,
 "nbformat_minor": 5
}
