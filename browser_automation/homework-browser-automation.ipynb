{
 "cells": [
  {
   "cell_type": "markdown",
   "id": "5ea02993",
   "metadata": {},
   "source": [
    "# Browser Automation Homework\n",
    "Due 7-23<br>\n",
    "Completed by: **TK YOUR NAME**\n",
    "\n",
    "We're going to visit the real estate site Zillow.com and search \"For sale\" listings in a town of your choosing.\n",
    "\n",
    "We'll collect the listings in the first 5 pages (or all if you like), and get a feel for the price range in that town.\n",
    "\n",
    "Ultimately I want to know the median price of that town.\n",
    "\n",
    "Note: if you get asked if you're a bot, just complete the challenges manually."
   ]
  },
  {
   "cell_type": "code",
   "execution_count": 1,
   "id": "0196bcd6",
   "metadata": {},
   "outputs": [],
   "source": [
    "import os\n",
    "import random\n",
    "import time\n",
    "\n",
    "from playwright.async_api import async_playwright, expect"
   ]
  },
  {
   "cell_type": "code",
   "execution_count": 2,
   "id": "7bed4d21",
   "metadata": {},
   "outputs": [],
   "source": [
    "os.makedirs('data/', exist_ok=True)"
   ]
  },
  {
   "cell_type": "markdown",
   "id": "ec7c1491",
   "metadata": {},
   "source": [
    "### 1) Open the browser, hide automation signs, visit Zillow.com"
   ]
  },
  {
   "cell_type": "code",
   "execution_count": 3,
   "id": "1055b7c1",
   "metadata": {},
   "outputs": [],
   "source": [
    "async def open_browser(headless=False):\n",
    "    \"\"\"\n",
    "    Starts the automated browser and opens a new window\n",
    "    \"\"\"\n",
    "    # Start playwright\n",
    "    playwright = await TK.TK()\n",
    "\n",
    "    # Open firefox browser, can use chromium (chrome) or others\n",
    "    browser = await playwright.TK\n",
    "  \n",
    "    # Create a new browser window\n",
    "    page = await browser.TK()\n",
    "\n",
    "    return browser, page"
   ]
  },
  {
   "cell_type": "code",
   "execution_count": 4,
   "id": "856ed485",
   "metadata": {},
   "outputs": [],
   "source": [
    "driver, page = await open_browser()"
   ]
  },
  {
   "cell_type": "code",
   "execution_count": 5,
   "id": "43b91a48",
   "metadata": {},
   "outputs": [
    {
     "data": {
      "text/plain": [
       "<Response url='https://www.zillow.com/' request=<Request url='https://www.zillow.com/' method='GET'>>"
      ]
     },
     "execution_count": 5,
     "metadata": {},
     "output_type": "execute_result"
    }
   ],
   "source": [
    "url = 'https://zillow.com'\n",
    "await page.TK(url)"
   ]
  },
  {
   "cell_type": "markdown",
   "id": "2f13ef8d",
   "metadata": {},
   "source": [
    "### 2) Find Search Box\n",
    "\n",
    "Use Playwright's [locator](https://playwright.dev/docs/locators) functions to find the search box."
   ]
  },
  {
   "cell_type": "code",
   "execution_count": 6,
   "id": "f89f8ec8",
   "metadata": {},
   "outputs": [
    {
     "data": {
      "text/plain": [
       "<Locator frame=<Frame name= url='https://www.zillow.com/'> selector='//input[@aria-label=\"Search\"]'>"
      ]
     },
     "execution_count": 6,
     "metadata": {},
     "output_type": "execute_result"
    }
   ],
   "source": [
    "search_box = page.TK()\n",
    "search_box"
   ]
  },
  {
   "cell_type": "markdown",
   "id": "62ce0fdf",
   "metadata": {},
   "source": [
    "### 3) Input a geography into search bar\n",
    "\n",
    "After you've found `search_box` find a way to input or send `search_term` into the input field.\n",
    "\n",
    "Feel free to change `search_term` to where ever you like."
   ]
  },
  {
   "cell_type": "code",
   "execution_count": 7,
   "id": "3c01dc72",
   "metadata": {},
   "outputs": [],
   "source": [
    "search_term = 'Worcester, MA'\n",
    "await search_box.TK"
   ]
  },
  {
   "cell_type": "markdown",
   "id": "89bf650f",
   "metadata": {},
   "source": [
    "### 4) Make the search\n",
    "\n",
    "Originally, I thought we could get away with just pressing \"ENTER\". If you try that you'll see that listings are not from the geography you're searching.\n",
    "\n",
    "Instead, you'll see a list of suggestions. Click the first suggestion.\n",
    "\n",
    "You can do that by first finding that suggestion (either the first element, or listing all elements then getting the first), then [clicking](https://playwright.dev/docs/input#mouse-click) on it."
   ]
  },
  {
   "cell_type": "code",
   "execution_count": 8,
   "id": "fde44de0-e887-4c13-8c26-206e0a16b8e7",
   "metadata": {},
   "outputs": [],
   "source": [
    "xpath_1st_opt = 'TK'\n",
    "await expect(TK).to_be_TK()"
   ]
  },
  {
   "cell_type": "code",
   "execution_count": 9,
   "id": "c93eb03e",
   "metadata": {},
   "outputs": [],
   "source": [
    "options = await page.K().all()"
   ]
  },
  {
   "cell_type": "code",
   "execution_count": 10,
   "id": "2514c637-c34a-4f85-9492-29dfff44c2a0",
   "metadata": {},
   "outputs": [],
   "source": [
    "first_option = TK"
   ]
  },
  {
   "cell_type": "code",
   "execution_count": 11,
   "id": "e54b41b4",
   "metadata": {},
   "outputs": [],
   "source": [
    "await first_option.TK()"
   ]
  },
  {
   "cell_type": "markdown",
   "id": "986e4808",
   "metadata": {},
   "source": [
    "### 5) Pick \"For sale,\" if asked\n",
    "You might be prompted to check for rentals or sales. This doesn't always show up, but be prepared to click \"For sale\" if you need to. You can check if the element `is_visible()` to determine this logic."
   ]
  },
  {
   "cell_type": "code",
   "execution_count": 12,
   "id": "db07961e",
   "metadata": {},
   "outputs": [],
   "source": [
    "for_sale = page.TK()\n",
    "# check if visible\n",
    "if await TK:\n",
    "    # click the element...\n",
    "    await TK"
   ]
  },
  {
   "cell_type": "markdown",
   "id": "c6467945",
   "metadata": {},
   "source": [
    "### 6) What are the prices of the houses on the first page?\n",
    "Print the `text_content()` of each listing's property price below:"
   ]
  },
  {
   "cell_type": "code",
   "execution_count": 13,
   "id": "730bd89c",
   "metadata": {},
   "outputs": [],
   "source": [
    "for card in await page.TK().all():\n",
    "    print(await card.TK())"
   ]
  },
  {
   "cell_type": "markdown",
   "id": "f9eb7dc6",
   "metadata": {},
   "source": [
    "Note: you _should_ see more than nine listings.\n",
    "\n",
    "You'll need to find a way to scroll down the page to load each new card. From my tests, each page holds up to 40.\n",
    "\n",
    "This is not a simple task! I found one way to do this below, can you find a better way to do this?"
   ]
  },
  {
   "cell_type": "code",
   "execution_count": 14,
   "id": "a276283e-9c03-4ccb-9260-a6244536f337",
   "metadata": {},
   "outputs": [],
   "source": [
    "# use `await asyncio.sleep(1)` instead of `time.sleep(1)`.\n",
    "import asyncio"
   ]
  },
  {
   "cell_type": "code",
   "execution_count": 15,
   "id": "c008544f",
   "metadata": {},
   "outputs": [],
   "source": [
    "N = 0\n",
    "while True:\n",
    "    # get all the listings, and scroll to the last one, then wait two seconds.\n",
    "    cards = await page.locator('//span[@data-test=\"property-card-price\"]').all()\n",
    "    last_listing = cards[-1]\n",
    "    \n",
    "    # you can use playwright to issue JavaScript commands:\n",
    "    await last_listing.evaluate(\"elm => elm.scrollIntoView();\")\n",
    "    N_cards = len(cards)\n",
    "    if N_cards == N:\n",
    "        break\n",
    "    N = N_cards\n",
    "    await asyncio.sleep(2)"
   ]
  },
  {
   "cell_type": "code",
   "execution_count": 16,
   "id": "1a501ccd",
   "metadata": {},
   "outputs": [
    {
     "data": {
      "text/plain": [
       "41"
      ]
     },
     "execution_count": 16,
     "metadata": {},
     "output_type": "execute_result"
    }
   ],
   "source": [
    "# how many postings do we have after loading them all?\n",
    "len(cards)"
   ]
  },
  {
   "cell_type": "markdown",
   "id": "40659143",
   "metadata": {},
   "source": [
    "Is there a better way to do this? Feel free to experiment, but it's not necessary for the assignment."
   ]
  },
  {
   "cell_type": "markdown",
   "id": "efef27f5",
   "metadata": {},
   "source": [
    "### 7) Save the results as HTML\n",
    "Save the page source to `html_out` as an HTML file"
   ]
  },
  {
   "cell_type": "code",
   "execution_count": 17,
   "id": "8d9e4730",
   "metadata": {},
   "outputs": [],
   "source": [
    "html_out = 'data/zillow_playwright_test.html'"
   ]
  },
  {
   "cell_type": "code",
   "execution_count": 18,
   "id": "eebbc4fb",
   "metadata": {},
   "outputs": [],
   "source": [
    "# how to save what the emulator sees\n",
    "TK"
   ]
  },
  {
   "cell_type": "markdown",
   "id": "0a82c03d",
   "metadata": {},
   "source": [
    "### 8) Go to the next page\n",
    "After collecting the first page, go to the next one by clicking the \"Next page\" button."
   ]
  },
  {
   "cell_type": "code",
   "execution_count": 19,
   "id": "23172142",
   "metadata": {},
   "outputs": [],
   "source": [
    "next_page = page.TK()"
   ]
  },
  {
   "cell_type": "code",
   "execution_count": 20,
   "id": "1ff95c9e",
   "metadata": {},
   "outputs": [],
   "source": [
    "await next_page.TK()"
   ]
  },
  {
   "cell_type": "code",
   "execution_count": 21,
   "id": "606c82af-ab29-4c2d-9d11-2f90152168b6",
   "metadata": {},
   "outputs": [],
   "source": [
    "# can also do it this way!\n",
    "# page.get_by_title('Next page').click()"
   ]
  },
  {
   "cell_type": "markdown",
   "id": "bf81baa2",
   "metadata": {},
   "source": [
    "### 9) Cycle through each page of results\n",
    "Above we outlined each step, now put it all together here and collect as many results as you can. Add some `asyncio.sleep(2)` (or some other reasonable time) between each step.\n",
    "\n",
    "You can stop after the 5th page to save time.\n",
    "\n",
    "Note: you can parse price from the listings directly from Playwright here, or save each page as HTML and parse them after you collect time. I recommend the latter, but for the sake of the homework feel free to take the shortcut."
   ]
  },
  {
   "cell_type": "code",
   "execution_count": 22,
   "id": "84ba3960",
   "metadata": {},
   "outputs": [],
   "source": [
    "# first close the browser to start anew\n",
    "await driver.close()"
   ]
  },
  {
   "cell_type": "code",
   "execution_count": 23,
   "id": "9c7e8775",
   "metadata": {},
   "outputs": [],
   "source": [
    "async def get_results_on_page(page, fn_out):\n",
    "    \"\"\"\n",
    "    Scrolls to load all listings and then saves them to `fn_out`.\n",
    "    \"\"\"\n",
    "    N = 0\n",
    "    while True:\n",
    "        # get all the listings, and scroll to the last one, then wait two seconds.\n",
    "        cards = await page.locator('//span[@data-test=\"property-card-price\"]').all()\n",
    "        last_listing = cards[-1]\n",
    "\n",
    "        # you can use playwright to issue JavaScript commands:\n",
    "        await last_listing.evaluate(\"elm => elm.scrollIntoView();\")\n",
    "        N_cards = len(cards)\n",
    "        if N_cards == N:\n",
    "            break\n",
    "        N = N_cards\n",
    "        await asyncio.sleep(2)\n",
    "        \n",
    "    # how to save what the emulator sees\n",
    "    source = await page.content()\n",
    "    with open(fn_out, 'w') as f:\n",
    "        f.write(source)"
   ]
  },
  {
   "cell_type": "code",
   "execution_count": 24,
   "id": "262e6b3c-b02b-4a70-a119-ac6fc23fd521",
   "metadata": {},
   "outputs": [],
   "source": [
    "await driver.close()"
   ]
  },
  {
   "cell_type": "code",
   "execution_count": 25,
   "id": "28e1f091",
   "metadata": {},
   "outputs": [
    {
     "name": "stdout",
     "output_type": "stream",
     "text": [
      "finding search box\n",
      "selecting first option\n",
      "Press for sale\n",
      "Getting results for page 0\n",
      "Getting results for page 1\n",
      "Getting results for page 2\n",
      "Getting results for page 3\n"
     ]
    }
   ],
   "source": [
    "search_term = 'Beacon, NY'\n",
    "# search_term = 'worcester, MA'\n",
    "\n",
    "driver, page = await open_browser()\n",
    "await page.goto(url)\n",
    "\n",
    "# find the search box\n",
    "print(\"finding search box\")\n",
    "xpath_search = \"TK\"\n",
    "\n",
    "# select the first suggestion\n",
    "print(\"selecting first option\")\n",
    "xpath_1st_opt = 'TK'\n",
    "TK\n",
    "await asyncio.sleep(2)\n",
    "\n",
    "# select only for sale listings...\n",
    "print(\"Press for sale\")\n",
    "xpath_for_sale = 'TK'\n",
    "for_sale = page.locator(xpath_for_sale)\n",
    "if await for_sale.TK_CHECK_IF_VISIBLE:\n",
    "    # TK click it\n",
    "    await asyncio.sleep(1)\n",
    "    \n",
    "# save each page of results\n",
    "xpath_next = 'TK'\n",
    "page_n = 0\n",
    "await expect(page.locator(xpath_next).first).to_be_visible()\n",
    "while True:\n",
    "    fn_out = f'data/zillow_page_{page_n}.html'\n",
    "    print(f\"Getting results for page {page_n}\")\n",
    "    await get_results_on_page(page, fn_out)\n",
    "    page_n += 1\n",
    "     \n",
    "    # stop after 10\n",
    "    if page_n == 10:\n",
    "        break\n",
    "        print(\"Done\")\n",
    "    await asyncio.sleep(1)\n",
    "\n",
    "    # see if there are more pages of results\n",
    "    next_page = page.locator(xpath_next)\n",
    "    if await next_page.is_visible():\n",
    "        await next_page.click()\n",
    "    else:\n",
    "        break\n",
    "        print(\"Done\")\n",
    "    await asyncio.sleep(1)"
   ]
  },
  {
   "cell_type": "markdown",
   "id": "d1fb102f",
   "metadata": {},
   "source": [
    "### 10) Parse the prices\n",
    "\n",
    "Parse the prices into a list or a Pandas Series, and list the median price."
   ]
  },
  {
   "cell_type": "code",
   "execution_count": 26,
   "id": "cc8e57a2",
   "metadata": {},
   "outputs": [],
   "source": [
    "import glob\n",
    "import pandas as pd\n",
    "from lxml import etree"
   ]
  },
  {
   "cell_type": "code",
   "execution_count": 27,
   "id": "94e24b67",
   "metadata": {},
   "outputs": [
    {
     "data": {
      "text/plain": [
       "4"
      ]
     },
     "execution_count": 27,
     "metadata": {},
     "output_type": "execute_result"
    }
   ],
   "source": [
    "files = glob.glob('data/zillow_page_*.html')\n",
    "len(files)"
   ]
  },
  {
   "cell_type": "code",
   "execution_count": 28,
   "id": "be838c1a",
   "metadata": {},
   "outputs": [],
   "source": [
    "prices = []\n",
    "for fn in files:\n",
    "    # get the prices as a dictionary and add to a list"
   ]
  },
  {
   "cell_type": "code",
   "execution_count": 29,
   "id": "7c61c755",
   "metadata": {},
   "outputs": [
    {
     "data": {
      "text/plain": [
       "count    1.410000e+02\n",
       "mean     5.363063e+05\n",
       "std      3.193751e+05\n",
       "min      5.500000e+04\n",
       "25%      3.499000e+05\n",
       "50%      5.150000e+05\n",
       "75%      6.950000e+05\n",
       "max      2.400000e+06\n",
       "Name: prices, dtype: float64"
      ]
     },
     "execution_count": 29,
     "metadata": {},
     "output_type": "execute_result"
    }
   ],
   "source": [
    "df = pd.DataFrame({'prices': prices})\n",
    "df.prices.describe()"
   ]
  },
  {
   "cell_type": "code",
   "execution_count": 30,
   "id": "78996825",
   "metadata": {},
   "outputs": [
    {
     "data": {
      "text/plain": [
       "141"
      ]
     },
     "execution_count": 30,
     "metadata": {},
     "output_type": "execute_result"
    }
   ],
   "source": [
    "len(df)"
   ]
  },
  {
   "cell_type": "code",
   "execution_count": 31,
   "id": "8efe219c",
   "metadata": {},
   "outputs": [
    {
     "data": {
      "text/plain": [
       "515000.0"
      ]
     },
     "execution_count": 31,
     "metadata": {},
     "output_type": "execute_result"
    }
   ],
   "source": [
    "df.prices.median()"
   ]
  },
  {
   "cell_type": "markdown",
   "id": "607fee17",
   "metadata": {},
   "source": [
    "## Extra credit\n",
    "- What is the median price per square foot?\n",
    "- Which realtor has the most listings?\n",
    "- Can you stain listings over $1M in red and take a full-screenshot?"
   ]
  },
  {
   "cell_type": "code",
   "execution_count": 32,
   "id": "73c23af3",
   "metadata": {},
   "outputs": [],
   "source": [
    "await driver.close()"
   ]
  },
  {
   "cell_type": "code",
   "execution_count": null,
   "id": "08919c0f-23dd-467c-a839-c42461f6d34d",
   "metadata": {},
   "outputs": [],
   "source": []
  }
 ],
 "metadata": {
  "kernelspec": {
   "display_name": "Python 3 (ipykernel)",
   "language": "python",
   "name": "python3"
  },
  "language_info": {
   "codemirror_mode": {
    "name": "ipython",
    "version": 3
   },
   "file_extension": ".py",
   "mimetype": "text/x-python",
   "name": "python",
   "nbconvert_exporter": "python",
   "pygments_lexer": "ipython3",
   "version": "3.11.4"
  }
 },
 "nbformat": 4,
 "nbformat_minor": 5
}
