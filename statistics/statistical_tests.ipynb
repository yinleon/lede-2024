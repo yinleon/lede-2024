{
 "cells": [
  {
   "cell_type": "markdown",
   "id": "2058d79e",
   "metadata": {},
   "source": [
    "# Statistical tests: primer\n",
    "\n",
    "We're going to use [code and data](https://github.com/the-markup/investigation-isp) from \"Still Loading\" to run some statistical tests in Kansas City."
   ]
  },
  {
   "cell_type": "code",
   "execution_count": 1,
   "id": "13f6410d",
   "metadata": {},
   "outputs": [],
   "source": [
    "%load_ext autoreload\n",
    "%autoreload 2"
   ]
  },
  {
   "cell_type": "code",
   "execution_count": 5,
   "id": "9c778a45-aa83-413a-849f-003df27d2fa6",
   "metadata": {},
   "outputs": [],
   "source": [
    "# !pip install statsmodels scipy"
   ]
  },
  {
   "cell_type": "code",
   "execution_count": 8,
   "id": "a50fcd8b",
   "metadata": {},
   "outputs": [],
   "source": [
    "import pandas as pd\n",
    "from statsmodels.stats.weightstats import ztest as ztest\n",
    "from scipy.stats import ttest_ind\n",
    "\n",
    "from aggregators import plot_race, redlining, bucket_and_bin"
   ]
  },
  {
   "cell_type": "code",
   "execution_count": 9,
   "id": "580aa4c4",
   "metadata": {},
   "outputs": [
    {
     "data": {
      "text/plain": [
       "\u001b[0;31mSignature:\u001b[0m \u001b[0mbucket_and_bin\u001b[0m\u001b[0;34m(\u001b[0m\u001b[0mdf\u001b[0m\u001b[0;34m,\u001b[0m \u001b[0mlimitations\u001b[0m\u001b[0;34m=\u001b[0m\u001b[0;32mFalse\u001b[0m\u001b[0;34m)\u001b[0m\u001b[0;34m\u001b[0m\u001b[0;34m\u001b[0m\u001b[0m\n",
       "\u001b[0;31mSource:\u001b[0m   \n",
       "\u001b[0;32mdef\u001b[0m \u001b[0mbucket_and_bin\u001b[0m\u001b[0;34m(\u001b[0m\u001b[0mdf\u001b[0m\u001b[0;34m,\u001b[0m \u001b[0mlimitations\u001b[0m\u001b[0;34m=\u001b[0m\u001b[0;32mFalse\u001b[0m\u001b[0;34m)\u001b[0m\u001b[0;34m:\u001b[0m\u001b[0;34m\u001b[0m\n",
       "\u001b[0;34m\u001b[0m    \u001b[0;34m\"\"\"This is how we wrangle our data\"\"\"\u001b[0m\u001b[0;34m\u001b[0m\n",
       "\u001b[0;34m\u001b[0m    \u001b[0;31m# These are our IVs\u001b[0m\u001b[0;34m\u001b[0m\n",
       "\u001b[0;34m\u001b[0m    \u001b[0;31m# https://www.federalreserve.gov/consumerscommunities/cra_resources.htm\u001b[0m\u001b[0;34m\u001b[0m\n",
       "\u001b[0;34m\u001b[0m    \u001b[0mdf\u001b[0m\u001b[0;34m.\u001b[0m\u001b[0mloc\u001b[0m\u001b[0;34m[\u001b[0m\u001b[0mdf\u001b[0m\u001b[0;34m[\u001b[0m\u001b[0;34m'income_lmi'\u001b[0m\u001b[0;34m]\u001b[0m \u001b[0;34m<\u001b[0m \u001b[0;34m-\u001b[0m\u001b[0;36m100\u001b[0m\u001b[0;34m,\u001b[0m \u001b[0;34m'income_lmi'\u001b[0m\u001b[0;34m]\u001b[0m \u001b[0;34m=\u001b[0m \u001b[0;32mNone\u001b[0m   \u001b[0;34m\u001b[0m\n",
       "\u001b[0;34m\u001b[0m    \u001b[0mdf\u001b[0m\u001b[0;34m.\u001b[0m\u001b[0mloc\u001b[0m\u001b[0;34m[\u001b[0m\u001b[0mdf\u001b[0m\u001b[0;34m[\u001b[0m\u001b[0;34m'median_household_income'\u001b[0m\u001b[0;34m]\u001b[0m \u001b[0;34m==\u001b[0m \u001b[0;34m-\u001b[0m\u001b[0;36m666666666.0\u001b[0m\u001b[0;34m,\u001b[0m \u001b[0;34m'median_household_income'\u001b[0m\u001b[0;34m]\u001b[0m \u001b[0;34m=\u001b[0m \u001b[0;32mNone\u001b[0m  \u001b[0;34m\u001b[0m\n",
       "\u001b[0;34m\u001b[0m    \u001b[0;34m\u001b[0m\n",
       "\u001b[0;34m\u001b[0m    \u001b[0mdf\u001b[0m\u001b[0;34m[\u001b[0m\u001b[0;34m'income_level'\u001b[0m\u001b[0;34m]\u001b[0m \u001b[0;34m=\u001b[0m \u001b[0maspirational_quartile\u001b[0m\u001b[0;34m(\u001b[0m\u001b[0;34m\u001b[0m\n",
       "\u001b[0;34m\u001b[0m        \u001b[0mdf\u001b[0m\u001b[0;34m[\u001b[0m\u001b[0;34m'median_household_income'\u001b[0m\u001b[0;34m]\u001b[0m\u001b[0;34m,\u001b[0m\u001b[0;34m\u001b[0m\n",
       "\u001b[0;34m\u001b[0m        \u001b[0mlabels\u001b[0m\u001b[0;34m=\u001b[0m\u001b[0;34m[\u001b[0m\u001b[0;34m'Low'\u001b[0m\u001b[0;34m,\u001b[0m \u001b[0;34m'Middle-Lower'\u001b[0m\u001b[0;34m,\u001b[0m \u001b[0;34m'Middle-Upper'\u001b[0m\u001b[0;34m,\u001b[0m \u001b[0;34m'Upper Income'\u001b[0m\u001b[0;34m]\u001b[0m\u001b[0;34m,\u001b[0m\u001b[0;34m\u001b[0m\n",
       "\u001b[0;34m\u001b[0m    \u001b[0;34m)\u001b[0m \u001b[0;34m\u001b[0m\n",
       "\u001b[0;34m\u001b[0m    \u001b[0;34m\u001b[0m\n",
       "\u001b[0;34m\u001b[0m    \u001b[0mdf\u001b[0m\u001b[0;34m[\u001b[0m\u001b[0;34m'speed_down_bins'\u001b[0m\u001b[0;34m]\u001b[0m \u001b[0;34m=\u001b[0m \u001b[0mpd\u001b[0m\u001b[0;34m.\u001b[0m\u001b[0mcut\u001b[0m\u001b[0;34m(\u001b[0m\u001b[0;34m\u001b[0m\n",
       "\u001b[0;34m\u001b[0m        \u001b[0mdf\u001b[0m\u001b[0;34m.\u001b[0m\u001b[0mspeed_down\u001b[0m\u001b[0;34m,\u001b[0m \u001b[0;34m\u001b[0m\n",
       "\u001b[0;34m\u001b[0m        \u001b[0;34m[\u001b[0m\u001b[0;34m-\u001b[0m\u001b[0;36m1\u001b[0m\u001b[0;34m,\u001b[0m \u001b[0;36m0.00001\u001b[0m\u001b[0;34m,\u001b[0m \u001b[0;36m25\u001b[0m\u001b[0;34m,\u001b[0m  \u001b[0;36m100\u001b[0m\u001b[0;34m,\u001b[0m \u001b[0;36m200\u001b[0m\u001b[0;34m,\u001b[0m \u001b[0;36m100000\u001b[0m\u001b[0;34m]\u001b[0m\u001b[0;34m,\u001b[0m\u001b[0;34m\u001b[0m\n",
       "\u001b[0;34m\u001b[0m        \u001b[0mlabels\u001b[0m\u001b[0;34m=\u001b[0m\u001b[0mspeed_labels\u001b[0m\u001b[0;34m,\u001b[0m\u001b[0;34m\u001b[0m\n",
       "\u001b[0;34m\u001b[0m        \u001b[0mright\u001b[0m\u001b[0;34m=\u001b[0m\u001b[0;32mFalse\u001b[0m\u001b[0;34m\u001b[0m\n",
       "\u001b[0;34m\u001b[0m    \u001b[0;34m)\u001b[0m\u001b[0;34m\u001b[0m\n",
       "\u001b[0;34m\u001b[0m \u001b[0;34m\u001b[0m\n",
       "\u001b[0;34m\u001b[0m    \u001b[0;32mtry\u001b[0m\u001b[0;34m:\u001b[0m\u001b[0;34m\u001b[0m\n",
       "\u001b[0;34m\u001b[0m        \u001b[0mdf\u001b[0m\u001b[0;34m[\u001b[0m\u001b[0;34m'race_quantile'\u001b[0m\u001b[0;34m]\u001b[0m \u001b[0;34m=\u001b[0m \u001b[0maspirational_quartile\u001b[0m\u001b[0;34m(\u001b[0m\u001b[0;34m\u001b[0m\n",
       "\u001b[0;34m\u001b[0m            \u001b[0mdf\u001b[0m\u001b[0;34m.\u001b[0m\u001b[0mrace_perc_non_white\u001b[0m\u001b[0;34m,\u001b[0m \u001b[0;34m\u001b[0m\n",
       "\u001b[0;34m\u001b[0m            \u001b[0mlabels\u001b[0m\u001b[0;34m=\u001b[0m\u001b[0mrace_labels\u001b[0m\u001b[0;34m\u001b[0m\n",
       "\u001b[0;34m\u001b[0m        \u001b[0;34m)\u001b[0m\u001b[0;34m\u001b[0m\n",
       "\u001b[0;34m\u001b[0m        \u001b[0;34m\u001b[0m\n",
       "\u001b[0;34m\u001b[0m    \u001b[0;32mexcept\u001b[0m\u001b[0;34m:\u001b[0m\u001b[0;34m\u001b[0m\n",
       "\u001b[0;34m\u001b[0m        \u001b[0mprint\u001b[0m\u001b[0;34m(\u001b[0m\u001b[0mdf\u001b[0m\u001b[0;34m.\u001b[0m\u001b[0mmajor_city\u001b[0m\u001b[0;34m.\u001b[0m\u001b[0miloc\u001b[0m\u001b[0;34m[\u001b[0m\u001b[0;36m0\u001b[0m\u001b[0;34m]\u001b[0m\u001b[0;34m)\u001b[0m\u001b[0;34m\u001b[0m\n",
       "\u001b[0;34m\u001b[0m    \u001b[0;34m\u001b[0m\n",
       "\u001b[0;34m\u001b[0m    \u001b[0;32mif\u001b[0m \u001b[0mlimitations\u001b[0m\u001b[0;34m:\u001b[0m\u001b[0;34m\u001b[0m\n",
       "\u001b[0;34m\u001b[0m        \u001b[0mdf\u001b[0m\u001b[0;34m[\u001b[0m\u001b[0;34m'race_quantile'\u001b[0m\u001b[0;34m]\u001b[0m \u001b[0;34m=\u001b[0m \u001b[0mpd\u001b[0m\u001b[0;34m.\u001b[0m\u001b[0mcut\u001b[0m\u001b[0;34m(\u001b[0m\u001b[0mdf\u001b[0m\u001b[0;34m[\u001b[0m\u001b[0;34m'race_perc_non_white'\u001b[0m\u001b[0;34m]\u001b[0m\u001b[0;34m,\u001b[0m \u001b[0;34m\u001b[0m\n",
       "\u001b[0;34m\u001b[0m                                     \u001b[0mbins\u001b[0m\u001b[0;34m=\u001b[0m\u001b[0;34m[\u001b[0m\u001b[0;36m0\u001b[0m\u001b[0;34m,\u001b[0m \u001b[0;36m.4\u001b[0m\u001b[0;34m,\u001b[0m \u001b[0;36m.6\u001b[0m\u001b[0;34m,\u001b[0m \u001b[0;36m1\u001b[0m\u001b[0;34m]\u001b[0m\u001b[0;34m,\u001b[0m\u001b[0;34m\u001b[0m\n",
       "\u001b[0;34m\u001b[0m                                     \u001b[0mlabels\u001b[0m\u001b[0;34m=\u001b[0m\u001b[0;34m[\u001b[0m\u001b[0;34m'most white'\u001b[0m\u001b[0;34m,\u001b[0m \u001b[0;34m'integrated'\u001b[0m\u001b[0;34m,\u001b[0m \u001b[0;34m'least white'\u001b[0m\u001b[0;34m]\u001b[0m\u001b[0;34m)\u001b[0m\u001b[0;34m\u001b[0m\n",
       "\u001b[0;34m\u001b[0m        \u001b[0;34m\u001b[0m\n",
       "\u001b[0;34m\u001b[0m        \u001b[0mdf\u001b[0m\u001b[0;34m[\u001b[0m\u001b[0;34m'income_level'\u001b[0m\u001b[0;34m]\u001b[0m \u001b[0;34m=\u001b[0m \u001b[0mpd\u001b[0m\u001b[0;34m.\u001b[0m\u001b[0mcut\u001b[0m\u001b[0;34m(\u001b[0m\u001b[0mdf\u001b[0m\u001b[0;34m[\u001b[0m\u001b[0;34m'income_lmi'\u001b[0m\u001b[0;34m]\u001b[0m\u001b[0;34m,\u001b[0m \u001b[0;34m\u001b[0m\n",
       "\u001b[0;34m\u001b[0m                                    \u001b[0mbins\u001b[0m\u001b[0;34m=\u001b[0m\u001b[0;34m[\u001b[0m\u001b[0;34m-\u001b[0m\u001b[0;36m1e10\u001b[0m\u001b[0;34m,\u001b[0m \u001b[0;36m.5\u001b[0m\u001b[0;34m,\u001b[0m \u001b[0;36m1.2\u001b[0m\u001b[0;34m,\u001b[0m \u001b[0;36m1e10\u001b[0m\u001b[0;34m]\u001b[0m\u001b[0;34m,\u001b[0m\u001b[0;34m\u001b[0m\n",
       "\u001b[0;34m\u001b[0m                                    \u001b[0mlabels\u001b[0m\u001b[0;34m=\u001b[0m\u001b[0;34m[\u001b[0m\u001b[0;34m'Low'\u001b[0m\u001b[0;34m,\u001b[0m \u001b[0;34m'Middle'\u001b[0m\u001b[0;34m,\u001b[0m \u001b[0;34m'Upper Income'\u001b[0m\u001b[0;34m]\u001b[0m\u001b[0;34m)\u001b[0m\u001b[0;34m\u001b[0m\n",
       "\u001b[0;34m\u001b[0m    \u001b[0;34m\u001b[0m\n",
       "\u001b[0;34m\u001b[0m    \u001b[0;31m# this is our DV\u001b[0m\u001b[0;34m\u001b[0m\n",
       "\u001b[0;34m\u001b[0m    \u001b[0mdf\u001b[0m\u001b[0;34m[\u001b[0m\u001b[0;34m'is_slow'\u001b[0m\u001b[0;34m]\u001b[0m \u001b[0;34m=\u001b[0m \u001b[0mdf\u001b[0m\u001b[0;34m.\u001b[0m\u001b[0mapply\u001b[0m\u001b[0;34m(\u001b[0m\u001b[0;34m\u001b[0m\n",
       "\u001b[0;34m\u001b[0m        \u001b[0;32mlambda\u001b[0m \u001b[0mx\u001b[0m\u001b[0;34m:\u001b[0m \u001b[0;36m1\u001b[0m \u001b[0;32mif\u001b[0m \u001b[0mx\u001b[0m\u001b[0;34m[\u001b[0m\u001b[0;34m'speed_down_bins'\u001b[0m\u001b[0;34m]\u001b[0m \u001b[0;34m==\u001b[0m \u001b[0;34m\"Slow (<25 Mbps)\"\u001b[0m \u001b[0;32melse\u001b[0m \u001b[0;36m0\u001b[0m\u001b[0;34m,\u001b[0m \u001b[0;34m\u001b[0m\n",
       "\u001b[0;34m\u001b[0m        \u001b[0maxis\u001b[0m\u001b[0;34m=\u001b[0m\u001b[0;36m1\u001b[0m\u001b[0;34m\u001b[0m\n",
       "\u001b[0;34m\u001b[0m    \u001b[0;34m)\u001b[0m\u001b[0;34m\u001b[0m\n",
       "\u001b[0;34m\u001b[0m   \u001b[0;34m\u001b[0m\n",
       "\u001b[0;34m\u001b[0m    \u001b[0;32mreturn\u001b[0m \u001b[0mdf\u001b[0m\u001b[0;34m\u001b[0m\u001b[0;34m\u001b[0m\u001b[0m\n",
       "\u001b[0;31mFile:\u001b[0m      ~/Code/lede/statistics/aggregators.py\n",
       "\u001b[0;31mType:\u001b[0m      function"
      ]
     },
     "metadata": {},
     "output_type": "display_data"
    }
   ],
   "source": [
    "??bucket_and_bin"
   ]
  },
  {
   "cell_type": "code",
   "execution_count": 10,
   "id": "00ebf7e2",
   "metadata": {},
   "outputs": [],
   "source": [
    "url = 'https://github.com/the-markup/investigation-isp/raw/main/data/output/speed_price_att.csv.gz'"
   ]
  },
  {
   "cell_type": "code",
   "execution_count": 11,
   "id": "c7b44120",
   "metadata": {},
   "outputs": [],
   "source": [
    "df = pd.read_csv(url)"
   ]
  },
  {
   "cell_type": "code",
   "execution_count": 12,
   "id": "38f36687",
   "metadata": {},
   "outputs": [
    {
     "data": {
      "text/plain": [
       "major_city\n",
       "chicago          61228\n",
       "houston          58293\n",
       "los angeles      48336\n",
       "jacksonville     30723\n",
       "columbus         26505\n",
       "detroit          26417\n",
       "charlotte        24563\n",
       "oklahoma city    20223\n",
       "kansas city      18508\n",
       "milwaukee        16504\n",
       "new orleans      16471\n",
       "indianapolis     16390\n",
       "wichita          13787\n",
       "atlanta          12919\n",
       "louisville        9592\n",
       "nashville         9542\n",
       "little rock       6837\n",
       "huntsville        6231\n",
       "charleston        4699\n",
       "jackson           4535\n",
       "Name: count, dtype: int64"
      ]
     },
     "execution_count": 12,
     "metadata": {},
     "output_type": "execute_result"
    }
   ],
   "source": [
    "df.major_city.value_counts()"
   ]
  },
  {
   "cell_type": "code",
   "execution_count": 13,
   "id": "50a73f9f",
   "metadata": {},
   "outputs": [
    {
     "data": {
      "text/plain": [
       "address_full                       2406 Country Club Ave NW, Huntsville AL 35816\n",
       "incorporated_place                                               Huntsville city\n",
       "major_city                                                            huntsville\n",
       "state                                                                         AL\n",
       "lat                                                                    34.745179\n",
       "lon                                                                   -86.606806\n",
       "block_group                                                          10890007022\n",
       "collection_datetime                                                   1650310200\n",
       "provider                                                                    AT&T\n",
       "speed_down                                                                 0.768\n",
       "speed_up                                                                   0.384\n",
       "speed_unit                                                                  Mbps\n",
       "price                                                                       55.0\n",
       "technology                                                             Not Fiber\n",
       "package                                                   Internet Basic 768kbps\n",
       "fastest_speed_down                                                         0.768\n",
       "fastest_speed_price                                                         55.0\n",
       "fn                             ../data/intermediary/isp/att/huntsville/010890...\n",
       "redlining_grade                                                              NaN\n",
       "race_perc_non_white                                                     0.475059\n",
       "income_lmi                                                              0.381744\n",
       "ppl_per_sq_mile                                                       512.090069\n",
       "n_providers                                                                  4.0\n",
       "income_dollars_below_median                                              35091.0\n",
       "internet_perc_broadband                                                 0.527881\n",
       "median_household_income                                                    21667\n",
       "Name: 0, dtype: object"
      ]
     },
     "execution_count": 13,
     "metadata": {},
     "output_type": "execute_result"
    }
   ],
   "source": [
    "df.iloc[0]"
   ]
  },
  {
   "cell_type": "markdown",
   "id": "5e672e29",
   "metadata": {},
   "source": [
    "### Filter dataframe by a City of your choosing"
   ]
  },
  {
   "cell_type": "code",
   "execution_count": 14,
   "id": "4d374841",
   "metadata": {},
   "outputs": [],
   "source": [
    "city = 'kansas city'"
   ]
  },
  {
   "cell_type": "code",
   "execution_count": 15,
   "id": "230b26c7",
   "metadata": {},
   "outputs": [],
   "source": [
    "df_city = df[df.major_city == city]"
   ]
  },
  {
   "cell_type": "markdown",
   "id": "30720c33",
   "metadata": {},
   "source": [
    "Split the dataframe into two groups based on the redlining grade. Merged from [Mapping Inequality](https://dsl.richmond.edu/panorama/redlining/).\n",
    "\n",
    "Make sure `redlined` is just `D` grades and `non_redlined` is both `A` and `B` grades."
   ]
  },
  {
   "cell_type": "code",
   "execution_count": 16,
   "id": "e42a7978",
   "metadata": {},
   "outputs": [],
   "source": [
    "redlined = df_city[df_city.redlining_grade == 'D'].speed_down\n",
    "non_redlined = df_city[df_city.redlining_grade.isin(['A', 'B'])].speed_down"
   ]
  },
  {
   "cell_type": "markdown",
   "id": "7e9c470b",
   "metadata": {},
   "source": [
    "Show some descriptive statistics. What is the median speed in each group, do the sizes of each group look comparable?"
   ]
  },
  {
   "cell_type": "code",
   "execution_count": 17,
   "id": "fb9fb32c",
   "metadata": {},
   "outputs": [
    {
     "data": {
      "text/plain": [
       "count    3058.000000\n",
       "mean       34.733800\n",
       "std        71.442268\n",
       "min         0.000000\n",
       "25%         0.768000\n",
       "50%        10.000000\n",
       "75%        18.000000\n",
       "max       300.000000\n",
       "Name: speed_down, dtype: float64"
      ]
     },
     "execution_count": 17,
     "metadata": {},
     "output_type": "execute_result"
    }
   ],
   "source": [
    "redlined.describe()"
   ]
  },
  {
   "cell_type": "code",
   "execution_count": 18,
   "id": "8fd2fe1d",
   "metadata": {},
   "outputs": [
    {
     "data": {
      "text/plain": [
       "count    1306.000000\n",
       "mean      201.381623\n",
       "std       130.545752\n",
       "min         0.000000\n",
       "25%        50.000000\n",
       "50%       300.000000\n",
       "75%       300.000000\n",
       "max       300.000000\n",
       "Name: speed_down, dtype: float64"
      ]
     },
     "execution_count": 18,
     "metadata": {},
     "output_type": "execute_result"
    }
   ],
   "source": [
    "non_redlined.describe()"
   ]
  },
  {
   "cell_type": "markdown",
   "id": "0cbe8959",
   "metadata": {},
   "source": [
    "### Z test"
   ]
  },
  {
   "cell_type": "code",
   "execution_count": 21,
   "id": "bf4293fd",
   "metadata": {},
   "outputs": [],
   "source": [
    "z_score, p = ztest(redlined, non_redlined, value=0) "
   ]
  },
  {
   "cell_type": "code",
   "execution_count": 22,
   "id": "42140ed5-10b4-4347-93da-56e77c087e61",
   "metadata": {},
   "outputs": [
    {
     "data": {
      "text/plain": [
       "(-54.12498026584233, 0.0)"
      ]
     },
     "execution_count": 22,
     "metadata": {},
     "output_type": "execute_result"
    }
   ],
   "source": [
    "z_score, p"
   ]
  },
  {
   "cell_type": "markdown",
   "id": "69c07a14",
   "metadata": {},
   "source": [
    "The `p`-value is the second variable returned from `ztest`, the threshold for statistifcal significance is usually 0.05. Anything below that is significant! The p-value is the most important takeaway for the statistical test.\n",
    "\n",
    "The first variable is a `z_score`. It shows how far away (in standard deviations) the mean of the second population (`non_redlined`) is from the mean of the first population (`redlined`). The negative/positive shows in what direction. \n",
    "\n",
    "In this case the mean speed for the redlined population is much less than the mean speed of the non-redlined population, and the difference is statistically significant."
   ]
  },
  {
   "cell_type": "markdown",
   "id": "2d3c50c9",
   "metadata": {},
   "source": [
    "### T-Test\n",
    "\n",
    "Z and T-tests look about the same when your sample size is greater than 30."
   ]
  },
  {
   "cell_type": "code",
   "execution_count": 23,
   "id": "6806aa70",
   "metadata": {},
   "outputs": [],
   "source": [
    "t_score, p = ttest_ind(a = redlined, b = non_redlined)"
   ]
  },
  {
   "cell_type": "code",
   "execution_count": 24,
   "id": "22eb549c-9c7f-4835-a3d6-3e5decfb85a8",
   "metadata": {},
   "outputs": [
    {
     "data": {
      "text/plain": [
       "(-54.12498026584233, 0.0)"
      ]
     },
     "execution_count": 24,
     "metadata": {},
     "output_type": "execute_result"
    }
   ],
   "source": [
    "t_score,p "
   ]
  },
  {
   "cell_type": "markdown",
   "id": "8bb2d028",
   "metadata": {},
   "source": [
    "Interpret the results of the tests along with the descriptive statistics above.\n",
    "\n",
    "Low `p`-value = statistical signifigance.\n",
    "\n",
    "The `t_score` is unitless, but generally a large value denotes greater magnitude of difference between the mean of both populations."
   ]
  },
  {
   "cell_type": "markdown",
   "id": "07b31e45",
   "metadata": {},
   "source": [
    "## Race/Ethnicity"
   ]
  },
  {
   "cell_type": "code",
   "execution_count": 38,
   "id": "1dd5e139",
   "metadata": {},
   "outputs": [],
   "source": [
    "# divide the sample into tw groups: White and non-White using a fixed-threshold\n",
    "white = df_city[df_city.race_perc_non_white <= .4].speed_down\n",
    "non_white = df_city[df_city.race_perc_non_white > .6].speed_down"
   ]
  },
  {
   "cell_type": "markdown",
   "id": "ce524e03",
   "metadata": {},
   "source": [
    "Get summary statistics for each group"
   ]
  },
  {
   "cell_type": "code",
   "execution_count": 39,
   "id": "7efbb635",
   "metadata": {},
   "outputs": [
    {
     "data": {
      "text/plain": [
       "count    9857.000000\n",
       "mean       81.229850\n",
       "std       103.126982\n",
       "min         0.000000\n",
       "25%        18.000000\n",
       "50%        50.000000\n",
       "75%        75.000000\n",
       "max       300.000000\n",
       "Name: speed_down, dtype: float64"
      ]
     },
     "execution_count": 39,
     "metadata": {},
     "output_type": "execute_result"
    }
   ],
   "source": [
    "white.describe()"
   ]
  },
  {
   "cell_type": "code",
   "execution_count": 40,
   "id": "e979b3b2",
   "metadata": {},
   "outputs": [
    {
     "data": {
      "text/plain": [
       "count    6359.000000\n",
       "mean       47.977540\n",
       "std        81.839822\n",
       "min         0.000000\n",
       "25%         1.000000\n",
       "50%        18.000000\n",
       "75%        50.000000\n",
       "max       300.000000\n",
       "Name: speed_down, dtype: float64"
      ]
     },
     "execution_count": 40,
     "metadata": {},
     "output_type": "execute_result"
    }
   ],
   "source": [
    "non_white.describe()"
   ]
  },
  {
   "cell_type": "markdown",
   "id": "be503438",
   "metadata": {},
   "source": [
    "Is the median download speed different across the groups? What are the median speeds?\n",
    "\n",
    "Do the size of each group look comparable?"
   ]
  },
  {
   "cell_type": "code",
   "execution_count": 21,
   "id": "672acc11",
   "metadata": {},
   "outputs": [
    {
     "name": "stdout",
     "output_type": "stream",
     "text": [
      "kansas city\n"
     ]
    },
    {
     "data": {
      "image/png": "[encoded data removed]",
      "text/plain": [
       "<Figure size 576x576 with 1 Axes>"
      ]
     },
     "metadata": {
      "needs_background": "light"
     },
     "output_type": "display_data"
    }
   ],
   "source": [
    "plot_race(bucket_and_bin(df_city), location=city)"
   ]
  },
  {
   "cell_type": "markdown",
   "id": "565c6def",
   "metadata": {},
   "source": [
    "Run a Z test and a T test."
   ]
  },
  {
   "cell_type": "code",
   "execution_count": 18,
   "id": "c7b434f1",
   "metadata": {},
   "outputs": [
    {
     "data": {
      "text/plain": [
       "(21.682346978015534, 3.01126046991474e-104)"
      ]
     },
     "execution_count": 18,
     "metadata": {},
     "output_type": "execute_result"
    }
   ],
   "source": [
    "ztest(white, \n",
    "      non_white,\n",
    "      value=0) "
   ]
  },
  {
   "cell_type": "code",
   "execution_count": 19,
   "id": "4e8a3013",
   "metadata": {},
   "outputs": [
    {
     "data": {
      "text/plain": [
       "Ttest_indResult(statistic=21.682346978015534, pvalue=8.648484339326299e-103)"
      ]
     },
     "execution_count": 19,
     "metadata": {},
     "output_type": "execute_result"
    }
   ],
   "source": [
    "ttest_ind(a = white,\n",
    "          b = non_white)"
   ]
  },
  {
   "cell_type": "markdown",
   "id": "6b15d4f2",
   "metadata": {},
   "source": [
    "Which test is the better choice? Why?"
   ]
  },
  {
   "cell_type": "code",
   "execution_count": null,
   "id": "cf4df58f",
   "metadata": {},
   "outputs": [],
   "source": []
  }
 ],
 "metadata": {
  "kernelspec": {
   "display_name": "Python 3 (ipykernel)",
   "language": "python",
   "name": "python3"
  },
  "language_info": {
   "codemirror_mode": {
    "name": "ipython",
    "version": 3
   },
   "file_extension": ".py",
   "mimetype": "text/x-python",
   "name": "python",
   "nbconvert_exporter": "python",
   "pygments_lexer": "ipython3",
   "version": "3.11.4"
  }
 },
 "nbformat": 4,
 "nbformat_minor": 5
}
