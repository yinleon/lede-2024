{
 "cells": [
  {
   "cell_type": "markdown",
   "id": "09d60d1b-16fc-4141-ae32-970b7d721b98",
   "metadata": {},
   "source": [
    "# Xpath\n",
    "\n",
    "Xpath is a language used to query and navigate XML-formatted documents, such as HTML.\n",
    "\n",
    "It is a useful tool for web scraping, as the syntax is standardized across browsers and web parsing software packages.\n",
    "\n",
    "For this reason, xpath is a seamless workflow between live websites in a browser and custom software to parse out fields (from static HTML) or interact with elements (using browser automation).\n",
    "\n",
    "Although it's a unique language on its own, it can generate simple, precise, and generalizable expressions to parse web pages."
   ]
  },
  {
   "cell_type": "markdown",
   "id": "a880230b-1338-452d-88cb-6dec944523e9",
   "metadata": {},
   "source": [
    "# Static Websites"
   ]
  },
  {
   "cell_type": "markdown",
   "id": "ec060464-4b7d-4661-bef3-e5fb3600058d",
   "metadata": {},
   "source": [
    "We're going to identify all the recent article titles and links from NPR.\n",
    "In your browser and go to our example website: https://text.npr.org/\n",
    "\n",
    "Next, open the dev tools by right-clicking anywhere and selecting \"Inspect\" (or however else).\n",
    "\n",
    "Select any element in the \"Elements\" tab and copy the xpath\n",
    "\n",
    "<figure>\n",
    "    <img src='assets/xpath_console.png' width=75%>\n",
    "    <figcaption align = \"left\" style=\"font-size:80%;\"> \n",
    "    How to copy the xpath of an element in Dev Tools.\n",
    "    </figcaption>\n",
    "</figure>\n",
    "\n",
    "The element we're selecting is an `<a>` tag with a link and a title that looks like this:\n",
    "\n",
    "```\n",
    "<a class=\"topic-title\" href=\"/nx-s1-5035272\">What is in Project 2025? </a>\n",
    "```\n",
    "\n",
    "The resulting xpath that we copied looks like this:\n",
    "\n",
    "```\n",
    "/html/body/main/div/ul/li[1]/a\n",
    "```\n",
    "\n",
    "### What is xpath?\n",
    "\n",
    "Xpath records hierarchically across a cascade of HTML tags, with the last tag denoting the destination.\n",
    "\n",
    "It designates where an element lives in an HTML document (as if you were honing in on a street address from the center of the earth).\n",
    "\n",
    "The example above is long and specific to one element on the page (BAD!). \n",
    "\n",
    "At it's worst, xpath provides is directions to a _specifc_ destination (for example the Shake Shack in Madison Square). At best, xpath provides directions that lead to _every_ Shake Shack.\n",
    "\n",
    "With a little practice xpath can be both precise and generalizable, providing an elegant way to locate and select elements from web pages.\n",
    "\n",
    "Here is the other extreme: short and generic (ALSO BAD!!). \n",
    "\n",
    "```\n",
    ".//a\n",
    "```\n",
    "\n",
    "This syntax yields the target element mixed with every other element on the page with an `<a>` tag. Following the Shake Shack analogy, this xpath represents directions to every restaurant on Earth.\n",
    "\n",
    "You'll notice the \".//\" before the `<a>` tag, which denotes a search _anywhere_ on the page.\n",
    "\n",
    "My favorite part about xpath is that you can identify and refine them _in browser_, and use the same xpath in different frameworks to make web parsing a breeze. \n",
    "\n",
    "The Goldie Locks approach is not about specifying the exact route, biut rather the destinguishing attributes of the destination.\n",
    "\n",
    "### Identifying the optimal xpath in the browser\n",
    "\n",
    "Let's jump into the live website:\n",
    "\n",
    "1. In Dev Tools, switch over to the \"console\" tab. This allows us to execute JavaScript on the page.\n",
    "\n",
    "2. We'll use the `$x()` function to select elements on the page by xpath (\"x\" for **x**path). As a start, type a HTML tag such as a \"header\", \"a\", \"div\":\n",
    "```\n",
    "$x('.//a')\n",
    "```\n",
    "\n",
    "xpath offers an easy way specify attributes and other distinguishable features. \n",
    "\n",
    "You just add an \"@\" sign before the attribute name. This allows you to denote specific attribute values `.//a[@href=\"/nx-s1-5035272\"]` or simply the presence of an attribute `.//a[@href]`. \n",
    "\n",
    "A simple workflow: \n",
    "- Start a xpath with a HTML tag with closed brackets: `.//a[ ... ]`\n",
    "- copy + paste attributes from a live element (for example `<a class=\"topic-title\" href=\"/nx-s1-5035272\">`)\n",
    "- Add \"@\" before each attribute, ending up with: `.//a[@class=\"topic-title\" and @href=\"/nx-s1-5035272\"]`.\n",
    "\n",
    "From there, you can remove overly-specific attributes. In the case above, the class is unique enough to isolate news articles.\n",
    "\n",
    "```\n",
    "$x('.//a[@class=\"topic-title\"]')\n",
    "```\n",
    "\n",
    "## Text Matching\n",
    "xpath also allows for text-matching. \n",
    "\n",
    "Here's how you can match for a link on the page with text mentioning \"2025\"\n",
    "```\n",
    "$x('.//a[@href and contains(text(),\"2025\")]')\n",
    "```\n",
    "To sanity check your results, you can expand the resulting list and click any of the elements. This will highlight the element on the page and shoot you back to the Dev Tools \"Elements\" tab to view the element.\n"
   ]
  },
  {
   "cell_type": "markdown",
   "id": "e024e2c0-60f5-42bb-bf7a-56197ef3b707",
   "metadata": {},
   "source": [
    "<video width=100% controls loop>\n",
    "    <source src=\"assets/click_xpath.mp4\" type=video/mp4>\n",
    "</video>"
   ]
  },
  {
   "cell_type": "markdown",
   "id": "bbd82bd4-1eef-4302-bc4d-8cea987710b2",
   "metadata": {},
   "source": [
    "## Parsing Xpath from HTML pages\n",
    "\n",
    "With the correct xpath in hand, we can automate this parsing in Python using the `lxml` package."
   ]
  },
  {
   "cell_type": "code",
   "execution_count": 1,
   "id": "a5072219-1216-4df7-b508-c1193a0cf37b",
   "metadata": {},
   "outputs": [
    {
     "name": "stdout",
     "output_type": "stream",
     "text": [
      "Requirement already satisfied: lxml in /Users/lyin72/miniconda3/lib/python3.11/site-packages (4.9.3)\n"
     ]
    }
   ],
   "source": [
    "!pip install lxml"
   ]
  },
  {
   "cell_type": "code",
   "execution_count": 2,
   "id": "d76b0dfc-24e6-4168-95b3-7b092f00a69a",
   "metadata": {},
   "outputs": [],
   "source": [
    "from lxml import etree\n",
    "import requests"
   ]
  },
  {
   "cell_type": "markdown",
   "id": "bfb4cccf-58f4-48de-824a-c71abf672bbe",
   "metadata": {},
   "source": [
    "Let's visit the website and retrieve the static HTML from the page."
   ]
  },
  {
   "cell_type": "code",
   "execution_count": 3,
   "id": "81c0ca94-b311-40b1-960a-218205e1da3b",
   "metadata": {},
   "outputs": [],
   "source": [
    "url = \"https://text.npr.org/\""
   ]
  },
  {
   "cell_type": "code",
   "execution_count": 4,
   "id": "69998b28-6f36-49b6-9616-04e29da05944",
   "metadata": {},
   "outputs": [],
   "source": [
    "resp = requests.get(url)"
   ]
  },
  {
   "cell_type": "markdown",
   "id": "81ba61c7-5ebc-41b2-a56e-215f7431504d",
   "metadata": {},
   "source": [
    "Read the HTML into the tree to parse."
   ]
  },
  {
   "cell_type": "code",
   "execution_count": 5,
   "id": "0c602550-e828-4c04-9994-19a2b2ae154e",
   "metadata": {},
   "outputs": [],
   "source": [
    "tree = etree.HTML(resp.text)"
   ]
  },
  {
   "cell_type": "code",
   "execution_count": 6,
   "id": "c8c539ae-f1d0-4f83-9a28-2ea12d144cbe",
   "metadata": {},
   "outputs": [
    {
     "data": {
      "text/plain": [
       "20"
      ]
     },
     "execution_count": 6,
     "metadata": {},
     "output_type": "execute_result"
    }
   ],
   "source": [
    "elements = tree.findall('.//a[@class=\"topic-title\"]')\n",
    "len(elements)"
   ]
  },
  {
   "cell_type": "markdown",
   "id": "959edf37-3253-4931-b3e2-ddb7bee8fd00",
   "metadata": {},
   "source": [
    "Now we can iterate through each headline and grab the title and link of each story:"
   ]
  },
  {
   "cell_type": "code",
   "execution_count": 7,
   "id": "bd57ed0c-c065-4109-b248-3bcd50ec630d",
   "metadata": {},
   "outputs": [],
   "source": [
    "data = []\n",
    "for elm in elements:\n",
    "    link = elm.get('href')\n",
    "    link = f\"https://npr.org{link}\"\n",
    "    title = elm.text\n",
    "    \n",
    "    row = {'link' : link, 'title': title}\n",
    "    data.append(row)"
   ]
  },
  {
   "cell_type": "code",
   "execution_count": 8,
   "id": "07382c56-62da-4c45-bc09-e88b51b5b49a",
   "metadata": {},
   "outputs": [
    {
     "data": {
      "text/plain": [
       "[{'link': 'https://npr.org/g-s1-10379',\n",
       "  'title': \"Judge Cannon dismisses Trump's documents case over how the special counsel was appointed\"},\n",
       " {'link': 'https://npr.org/g-s1-10620',\n",
       "  'title': 'Artists on the schedule for Monday night at the RNC'},\n",
       " {'link': 'https://npr.org/nx-s1-5039234',\n",
       "  'title': 'Conspiracy theories surge following the assassination attempt on Trump'},\n",
       " {'link': 'https://npr.org/1138759124',\n",
       "  'title': '5 strategies to help you cope with a nagging feeling of dread'},\n",
       " {'link': 'https://npr.org/1244273973',\n",
       "  'title': 'The Forever Stamp just went up in price. How does the U.S. cost compare globally?'},\n",
       " {'link': 'https://npr.org/nx-s1-5040280',\n",
       "  'title': 'Copenhagen begins offering free perks to tourists who make sustainable choices'},\n",
       " {'link': 'https://npr.org/nx-s1-5039185',\n",
       "  'title': 'What we know about the Trump shooter'},\n",
       " {'link': 'https://npr.org/nx-s1-5039293',\n",
       "  'title': 'The man killed in the assassination attempt on Trump died shielding his family'},\n",
       " {'link': 'https://npr.org/nx-s1-5036878',\n",
       "  'title': 'As a baby bust hits rural areas, hospital labor and delivery wards are closing down'},\n",
       " {'link': 'https://npr.org/nx-s1-5040329',\n",
       "  'title': \"Soccer's diversity unites a divided Europe, sort of\"},\n",
       " {'link': 'https://npr.org/nx-s1-5034972',\n",
       "  'title': 'Philadelphia workers have to show up in the office today, flying birds or not'},\n",
       " {'link': 'https://npr.org/nx-s1-5025210',\n",
       "  'title': '11 tips for a smooth EV road trip — without the range anxiety'},\n",
       " {'link': 'https://npr.org/1234569831',\n",
       "  'title': 'Nathy Peluso: Tiny Desk Concert'},\n",
       " {'link': 'https://npr.org/g-s1-8939',\n",
       "  'title': \"Don't think heat pumps are sexy? This slow jam could change your mind\"},\n",
       " {'link': 'https://npr.org/nx-s1-4865955',\n",
       "  'title': \"8 things to know about the drug known as 'gas station heroin'\"},\n",
       " {'link': 'https://npr.org/1154459269',\n",
       "  'title': 'Richard Simmons, who believed fitness is for everyone, dies at 76'},\n",
       " {'link': 'https://npr.org/g-s1-10305',\n",
       "  'title': 'Biden calls for unity following Trump assassination attempt'},\n",
       " {'link': 'https://npr.org/nx-s1-5033995',\n",
       "  'title': '‘House of the Dragon’ Season 2, Episode 5, Orchestrated maneuvers in the dark (and rainy)'},\n",
       " {'link': 'https://npr.org/g-s1-10203',\n",
       "  'title': 'Actress Shannen Doherty dies at 53, after a nearly decade-long battle with breast cancer'},\n",
       " {'link': 'https://npr.org/nx-s1-5026589',\n",
       "  'title': 'Women don’t have equal access to college in prison. Here’s why'}]"
      ]
     },
     "execution_count": 8,
     "metadata": {},
     "output_type": "execute_result"
    }
   ],
   "source": [
    "data"
   ]
  },
  {
   "cell_type": "markdown",
   "id": "c6130251-0870-49e5-9e52-f8c0db510167",
   "metadata": {},
   "source": [
    "## Browser Automation\n",
    "\n",
    "The same xpath can be used for browser automation frameworks, such as Playwright."
   ]
  },
  {
   "cell_type": "code",
   "execution_count": 9,
   "id": "ef7d640c-e293-467a-9e60-06ec956bfe3f",
   "metadata": {},
   "outputs": [
    {
     "name": "stdout",
     "output_type": "stream",
     "text": [
      "Requirement already satisfied: playwright in /Users/lyin72/miniconda3/lib/python3.11/site-packages (1.44.0)\n",
      "Requirement already satisfied: greenlet==3.0.3 in /Users/lyin72/miniconda3/lib/python3.11/site-packages (from playwright) (3.0.3)\n",
      "Requirement already satisfied: pyee==11.1.0 in /Users/lyin72/miniconda3/lib/python3.11/site-packages (from playwright) (11.1.0)\n",
      "Requirement already satisfied: typing-extensions in /Users/lyin72/miniconda3/lib/python3.11/site-packages (from pyee==11.1.0->playwright) (4.7.1)\n"
     ]
    }
   ],
   "source": [
    "# download software\n",
    "!pip install playwright\n",
    "!playwright install"
   ]
  },
  {
   "cell_type": "code",
   "execution_count": 10,
   "id": "72255ed0-c347-432c-a942-1dcfb67f7dfc",
   "metadata": {},
   "outputs": [],
   "source": [
    "from playwright.async_api import async_playwright\n",
    "\n",
    "playwright = await async_playwright().start()\n",
    "browser = await playwright.chromium.launch(headless = False)\n",
    "page = await browser.new_page()"
   ]
  },
  {
   "cell_type": "markdown",
   "id": "9796d87f-6a0a-4621-9430-35a131c5cef7",
   "metadata": {},
   "source": [
    "The exact function to access xpaths is a little different across frameworks, but the xpaths stay the same."
   ]
  },
  {
   "cell_type": "code",
   "execution_count": 12,
   "id": "112644ed-f037-4a06-8d6f-c002f898fc89",
   "metadata": {},
   "outputs": [],
   "source": [
    "# go to the webpage, and find all the links to parse\n",
    "await page.goto(url)\n",
    "elms = await page.locator('//a[@class=\"topic-title\"]').all()"
   ]
  },
  {
   "cell_type": "code",
   "execution_count": 13,
   "id": "5c0dc18e-9ebf-478e-9d01-2723e60a56eb",
   "metadata": {},
   "outputs": [],
   "source": [
    "# parse the links\n",
    "data = []\n",
    "for elm in elms:\n",
    "    title = await elm.text_content()\n",
    "    link = await elm.get_attribute('href')\n",
    "    link = f'https://npr.org{link}'\n",
    "    \n",
    "    row = {'link': link, 'title': title,}\n",
    "    data.append(row)"
   ]
  },
  {
   "cell_type": "code",
   "execution_count": 14,
   "id": "b4300886-d7bd-466f-b721-68a0eea67b92",
   "metadata": {},
   "outputs": [
    {
     "data": {
      "text/plain": [
       "[{'link': 'https://npr.org/g-s1-10379',\n",
       "  'title': \"Judge Cannon dismisses Trump's documents case over how the special counsel was appointed\"},\n",
       " {'link': 'https://npr.org/g-s1-10620',\n",
       "  'title': 'Artists on the schedule for Monday night at the RNC'},\n",
       " {'link': 'https://npr.org/nx-s1-5039234',\n",
       "  'title': 'Conspiracy theories surge following the assassination attempt on Trump'},\n",
       " {'link': 'https://npr.org/1138759124',\n",
       "  'title': '5 strategies to help you cope with a nagging feeling of dread'},\n",
       " {'link': 'https://npr.org/1244273973',\n",
       "  'title': 'The Forever Stamp just went up in price. How does the U.S. cost compare globally?'},\n",
       " {'link': 'https://npr.org/nx-s1-5040280',\n",
       "  'title': 'Copenhagen begins offering free perks to tourists who make sustainable choices'},\n",
       " {'link': 'https://npr.org/nx-s1-5039185',\n",
       "  'title': 'What we know about the Trump shooter'},\n",
       " {'link': 'https://npr.org/nx-s1-5039293',\n",
       "  'title': 'The man killed in the assassination attempt on Trump died shielding his family'},\n",
       " {'link': 'https://npr.org/nx-s1-5036878',\n",
       "  'title': 'As a baby bust hits rural areas, hospital labor and delivery wards are closing down'},\n",
       " {'link': 'https://npr.org/nx-s1-5040329',\n",
       "  'title': \"Soccer's diversity unites a divided Europe, sort of\"},\n",
       " {'link': 'https://npr.org/nx-s1-5034972',\n",
       "  'title': 'Philadelphia workers have to show up in the office today, flying birds or not'},\n",
       " {'link': 'https://npr.org/nx-s1-5025210',\n",
       "  'title': '11 tips for a smooth EV road trip — without the range anxiety'},\n",
       " {'link': 'https://npr.org/1234569831',\n",
       "  'title': 'Nathy Peluso: Tiny Desk Concert'},\n",
       " {'link': 'https://npr.org/g-s1-8939',\n",
       "  'title': \"Don't think heat pumps are sexy? This slow jam could change your mind\"},\n",
       " {'link': 'https://npr.org/nx-s1-4865955',\n",
       "  'title': \"8 things to know about the drug known as 'gas station heroin'\"},\n",
       " {'link': 'https://npr.org/1154459269',\n",
       "  'title': 'Richard Simmons, who believed fitness is for everyone, dies at 76'},\n",
       " {'link': 'https://npr.org/g-s1-10305',\n",
       "  'title': 'Biden calls for unity following Trump assassination attempt'},\n",
       " {'link': 'https://npr.org/nx-s1-5033995',\n",
       "  'title': '‘House of the Dragon’ Season 2, Episode 5, Orchestrated maneuvers in the dark (and rainy)'},\n",
       " {'link': 'https://npr.org/g-s1-10203',\n",
       "  'title': 'Actress Shannen Doherty dies at 53, after a nearly decade-long battle with breast cancer'},\n",
       " {'link': 'https://npr.org/nx-s1-5026589',\n",
       "  'title': 'Women don’t have equal access to college in prison. Here’s why'}]"
      ]
     },
     "execution_count": 14,
     "metadata": {},
     "output_type": "execute_result"
    }
   ],
   "source": [
    "data"
   ]
  },
  {
   "cell_type": "code",
   "execution_count": 15,
   "id": "5adc3783-dfe2-4704-b23e-c726c005aa58",
   "metadata": {},
   "outputs": [],
   "source": [
    "await browser.close()"
   ]
  },
  {
   "cell_type": "code",
   "execution_count": null,
   "id": "6d401d0e-202f-4e13-bba0-0ba02c2801e2",
   "metadata": {},
   "outputs": [],
   "source": []
  }
 ],
 "metadata": {
  "kernelspec": {
   "display_name": "Python 3 (ipykernel)",
   "language": "python",
   "name": "python3"
  },
  "language_info": {
   "codemirror_mode": {
    "name": "ipython",
    "version": 3
   },
   "file_extension": ".py",
   "mimetype": "text/x-python",
   "name": "python",
   "nbconvert_exporter": "python",
   "pygments_lexer": "ipython3",
   "version": "3.11.4"
  }
 },
 "nbformat": 4,
 "nbformat_minor": 5
}
